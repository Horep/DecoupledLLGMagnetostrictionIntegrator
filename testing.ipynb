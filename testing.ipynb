{
 "cells": [
  {
   "cell_type": "code",
   "execution_count": null,
   "metadata": {},
   "outputs": [],
   "source": [
    "from netgen.csg import *\n",
    "from ngsolve import *\n",
    "from ngsolve.utils import (\n",
    "    Grad\n",
    ")  # If I don't import these explicitly, VSCode reads them as missing.\n",
    "import netgen.gui  # this opens up the netgen ui\n",
    "import Magnetisation_Functions as magfunc\n",
    "import numpy as np\n",
    "import scipy.sparse as sp\n",
    "import matplotlib.pyplot as plt\n",
    "import Elastic_Functions as elfunc\n",
    "import General_Functions as genfunc\n",
    "import QMatrix\n",
    "import sys\n",
    "import time\n",
    "np.set_printoptions(threshold=sys.maxsize)\n",
    "\n",
    "\n",
    "# MATERIAL PARAMETERS\n",
    "M_s = 1.5e6\n",
    "gyromagnetic_ratio = 1.761e11\n",
    "exchange_length = 3e-9\n",
    "lambda_m: float = 30e-6  # saturation magnetostrain parameter\n",
    "mu_0 = 1.25663706e-6\n",
    "density = 7874\n",
    "KAPPA: float = genfunc.calculate_KAPPA(density, exchange_length, gyromagnetic_ratio, mu_0)  # Determines the relative strength of the elastic vs. magnetic parts.\n",
    "stress_fac = genfunc.stress_density_factor(KAPPA=KAPPA, mu_0=mu_0, M_s=M_s)\n",
    "mu, lam = 54e9/stress_fac, 172e9/stress_fac\n",
    "ALPHA: float = 1  # Dissipative constant in the LLG equation.\n",
    "\n",
    "# SIMULATION PARAMETERS\n",
    "T_MAX_DIM: float = 1e-10  # The maximum time for the simulation in seconds\n",
    "THETA: float = 0.505  # Should be strictly above 1/2 for unconditional stability\n",
    "time_step_dim = 1e-12 # seconds\n",
    "K: float = time_step_dim*genfunc.nondimensional_time(gyromagnetic_ratio, mu_0, M_s=M_s)  # TIME STEP\n",
    "T_MAX: float = T_MAX_DIM*genfunc.nondimensional_time(gyromagnetic_ratio, mu_0, M_s=M_s)\n",
    "H_MAX: float = 3  # Determines how fine the mesh should be.\n",
    "\n",
    "print(f\"µ = {mu}, λ = {lam}, κ = {KAPPA}\")\n",
    "print(f\"K = {K}, T_MAX = {T_MAX}\")"
   ]
  },
  {
   "cell_type": "code",
   "execution_count": null,
   "metadata": {},
   "outputs": [],
   "source": [
    "def MakeGeometry():  # this makes a box, with labelled faces\n",
    "    geometry = CSGeometry()\n",
    "    left = Plane(Pnt(0, 0, 0), Vec(-1, 0, 0)).bc(\"left\")\n",
    "    right = Plane(Pnt(6, 6, 6), Vec(1, 0, 0)).bc(\"right\")\n",
    "    front = Plane(Pnt(0, 0, 0), Vec(0, -1, 0)).bc(\"front\")\n",
    "    back = Plane(Pnt(6, 6, 6), Vec(0, 1, 0)).bc(\"back\")\n",
    "    bot = Plane(Pnt(0, 0, 0), Vec(0, 0, -1)).bc(\"bot\")\n",
    "    top = Plane(Pnt(6, 6, 6), Vec(0, 0, 1)).bc(\"top\")\n",
    "\n",
    "    cube = left * right * front * back * bot * top\n",
    "    geometry.Add(cube)\n",
    "    # cube = OrthoBrick(Pnt(0,0,0), Pnt(1,1,1))\n",
    "    return geometry\n",
    "\n",
    "\n",
    "ngmesh = MakeGeometry().GenerateMesh(maxh=H_MAX)\n",
    "# ngmesh.Save(\"cube.vol\")\n",
    "mesh = Mesh(ngmesh)\n",
    "Draw(mesh)"
   ]
  },
  {
   "cell_type": "code",
   "execution_count": null,
   "metadata": {},
   "outputs": [],
   "source": [
    "fes_mag = VectorH1(\n",
    "    mesh, order=1\n",
    ")  # the finite element space for the magnetisation m_h^i\n",
    "fes_eps_m = MatrixValued(\n",
    "    H1(mesh, order=1), dim=3\n",
    ")  # matrix FE space on the magnetic part\n",
    "fes_disp = VectorH1(\n",
    "    mesh, order=1, dirichlet=\"left\"\n",
    ")  # the finite element space for the displacement u_h^i\n",
    "\n",
    "print(f\"mag_ndof={fes_mag.ndof}, disp_ndof={fes_disp.ndof},\\n, dispfree_ndof={fes_disp.FreeDofs()}\")\n",
    "mag_gfu = GridFunction(fes_mag)\n",
    "disp_gfu = GridFunction(fes_disp)\n",
    "prev_disp_gfu = GridFunction(fes_disp) #  used to store the previous displacement\n",
    "zeeman_factor = Parameter(0)\n",
    "f_zeeman = CoefficientFunction((0, 0, zeeman_factor))\n",
    "# body force and traction force\n",
    "body_factor = Parameter(genfunc.force_density_grav(grav_accel=-9.81, density=7874, exchange_length=3e-9, KAPPA=KAPPA, mu_0=1.25663706e-6, M_s=217.6))\n",
    "body_factor = 0.0\n",
    "f_body = CoefficientFunction((0.0, 0.0, body_factor))\n",
    "surface_factor = Parameter(0)\n",
    "g_surface = CoefficientFunction([(0,surface_factor,0) if bc==\"top\" else (0,0,0) for bc in mesh.GetBoundaries()])"
   ]
  },
  {
   "cell_type": "code",
   "execution_count": null,
   "metadata": {},
   "outputs": [],
   "source": [
    "# Initial conditions\n",
    "mag_gfu = magfunc.give_random_magnetisation(mag_gfu)\n",
    "#disp_gfu = elfunc.give_random_displacement(disp_gfu)\n",
    "disp_gfu = elfunc.give_uniform_displacement(disp_gfu, (0.0, 0.0, 0.0))  # initial displacement\n",
    "velocity_gfu = GridFunction(fes_disp)  # velocity\n",
    "velocity_gfu = elfunc.give_uniform_displacement(velocity_gfu, (0.0, 0.0, 0.0))  # An initial velocity. Should only be used once in iteration.\n",
    "Draw(mag_gfu, mesh, \"magnetisation\")\n",
    "Draw(disp_gfu, mesh, \"displacement\")\n",
    "proj_mag = magfunc.nodal_projection(mag_gfu, fes_mag)\n",
    "\n",
    "a_mag_fixed = magfunc.build_fixed_mag(fes_mag, ALPHA, THETA, K)  # static portion of the magnetisation linear system"
   ]
  },
  {
   "cell_type": "code",
   "execution_count": null,
   "metadata": {},
   "outputs": [],
   "source": [
    "display(np.ones(2*5))\n",
    "display(QMatrix.q_block(np.ones(2*5)).todense())"
   ]
  }
 ],
 "metadata": {
  "kernelspec": {
   "display_name": "Python 3",
   "language": "python",
   "name": "python3"
  },
  "language_info": {
   "codemirror_mode": {
    "name": "ipython",
    "version": 3
   },
   "file_extension": ".py",
   "mimetype": "text/x-python",
   "name": "python",
   "nbconvert_exporter": "python",
   "pygments_lexer": "ipython3",
   "version": "3.7.9"
  },
  "orig_nbformat": 4
 },
 "nbformat": 4,
 "nbformat_minor": 2
}
