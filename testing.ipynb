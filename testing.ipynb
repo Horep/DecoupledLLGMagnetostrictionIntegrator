{
 "cells": [
  {
   "cell_type": "code",
   "execution_count": 1,
   "metadata": {},
   "outputs": [
    {
     "name": "stdout",
     "output_type": "stream",
     "text": [
      "µ = 6.915679893182856, λ = 22.027721141249096, κ = 2761.6363810703906\n",
      "K = 0.331940679399, T_MAX = 33.1940679399\n"
     ]
    }
   ],
   "source": [
    "from netgen.csg import *\n",
    "from ngsolve import *\n",
    "from ngsolve.utils import (\n",
    "    Grad\n",
    ")  # If I don't import these explicitly, VSCode reads them as missing.\n",
    "import netgen.gui  # this opens up the netgen ui\n",
    "import Magnetisation_Functions as magfunc\n",
    "import numpy as np\n",
    "import scipy.sparse as sp\n",
    "import matplotlib.pyplot as plt\n",
    "import Elastic_Functions as elfunc\n",
    "import General_Functions as genfunc\n",
    "import QMatrix\n",
    "import sys\n",
    "import time\n",
    "np.set_printoptions(threshold=sys.maxsize)\n",
    "\n",
    "\n",
    "# MATERIAL PARAMETERS\n",
    "M_s = 1.5e6\n",
    "gyromagnetic_ratio = 1.761e11\n",
    "exchange_length = 3e-9\n",
    "lambda_m: float = 30e-6  # saturation magnetostrain parameter\n",
    "mu_0 = 1.25663706e-6\n",
    "density = 7874\n",
    "KAPPA: float = genfunc.calculate_KAPPA(density, exchange_length, gyromagnetic_ratio, mu_0)  # Determines the relative strength of the elastic vs. magnetic parts.\n",
    "stress_fac = genfunc.stress_density_factor(KAPPA=KAPPA, mu_0=mu_0, M_s=M_s)\n",
    "mu, lam = 54e9/stress_fac, 172e9/stress_fac\n",
    "ALPHA: float = 1  # Dissipative constant in the LLG equation.\n",
    "\n",
    "# SIMULATION PARAMETERS\n",
    "T_MAX_DIM: float = 1e-10  # The maximum time for the simulation in seconds\n",
    "THETA: float = 0.505  # Should be strictly above 1/2 for unconditional stability\n",
    "time_step_dim = 1e-12 # seconds\n",
    "K: float = time_step_dim*genfunc.nondimensional_time(gyromagnetic_ratio, mu_0, M_s=M_s)  # TIME STEP\n",
    "T_MAX: float = T_MAX_DIM*genfunc.nondimensional_time(gyromagnetic_ratio, mu_0, M_s=M_s)\n",
    "H_MAX: float = 6  # Determines how fine the mesh should be.\n",
    "\n",
    "print(f\"µ = {mu}, λ = {lam}, κ = {KAPPA}\")\n",
    "print(f\"K = {K}, T_MAX = {T_MAX}\")"
   ]
  },
  {
   "cell_type": "code",
   "execution_count": 2,
   "metadata": {},
   "outputs": [],
   "source": [
    "def MakeGeometry():  # this makes a box, with labelled faces\n",
    "    geometry = CSGeometry()\n",
    "    left = Plane(Pnt(0, 0, 0), Vec(-1, 0, 0)).bc(\"left\")\n",
    "    right = Plane(Pnt(6, 6, 6), Vec(1, 0, 0)).bc(\"right\")\n",
    "    front = Plane(Pnt(0, 0, 0), Vec(0, -1, 0)).bc(\"front\")\n",
    "    back = Plane(Pnt(6, 6, 6), Vec(0, 1, 0)).bc(\"back\")\n",
    "    bot = Plane(Pnt(0, 0, 0), Vec(0, 0, -1)).bc(\"bot\")\n",
    "    top = Plane(Pnt(6, 6, 6), Vec(0, 0, 1)).bc(\"top\")\n",
    "\n",
    "    cube = left * right * front * back * bot * top\n",
    "    geometry.Add(cube)\n",
    "    # cube = OrthoBrick(Pnt(0,0,0), Pnt(1,1,1))\n",
    "    return geometry\n",
    "\n",
    "\n",
    "ngmesh = MakeGeometry().GenerateMesh(maxh=H_MAX)\n",
    "# ngmesh.Save(\"cube.vol\")\n",
    "mesh = Mesh(ngmesh)\n",
    "Draw(mesh)"
   ]
  },
  {
   "cell_type": "code",
   "execution_count": 3,
   "metadata": {},
   "outputs": [
    {
     "name": "stdout",
     "output_type": "stream",
     "text": [
      "mag_ndof=27, disp_ndof=27,\n",
      ", dispfree_ndof=0: 001010111001010111001010111\n"
     ]
    }
   ],
   "source": [
    "fes_mag = VectorH1(\n",
    "    mesh, order=1\n",
    ")  # the finite element space for the magnetisation m_h^i\n",
    "fes_eps_m = MatrixValued(\n",
    "    H1(mesh, order=1), dim=3\n",
    ")  # matrix FE space on the magnetic part\n",
    "fes_disp = VectorH1(\n",
    "    mesh, order=1, dirichlet=\"left\"\n",
    ")  # the finite element space for the displacement u_h^i\n",
    "\n",
    "print(f\"mag_ndof={fes_mag.ndof}, disp_ndof={fes_disp.ndof},\\n, dispfree_ndof={fes_disp.FreeDofs()}\")\n",
    "mag_gfu = GridFunction(fes_mag)\n",
    "disp_gfu = GridFunction(fes_disp)\n",
    "prev_disp_gfu = GridFunction(fes_disp) #  used to store the previous displacement\n",
    "zeeman_factor = Parameter(0)\n",
    "f_zeeman = CoefficientFunction((0, 0, zeeman_factor))\n",
    "# body force and traction force\n",
    "body_factor = Parameter(genfunc.force_density_grav(grav_accel=-9.81, density=7874, exchange_length=3e-9, KAPPA=KAPPA, mu_0=1.25663706e-6, M_s=217.6))\n",
    "body_factor = 0.0\n",
    "f_body = CoefficientFunction((0.0, 0.0, body_factor))\n",
    "surface_factor = Parameter(0)\n",
    "g_surface = CoefficientFunction([(0,surface_factor,0) if bc==\"top\" else (0,0,0) for bc in mesh.GetBoundaries()])"
   ]
  },
  {
   "cell_type": "code",
   "execution_count": 4,
   "metadata": {},
   "outputs": [],
   "source": [
    "# Initial conditions\n",
    "mag_gfu = magfunc.give_random_magnetisation(mag_gfu)\n",
    "#disp_gfu = elfunc.give_random_displacement(disp_gfu)\n",
    "disp_gfu = elfunc.give_uniform_displacement(disp_gfu, (0.0, 0.0, 0.0))  # initial displacement\n",
    "velocity_gfu = GridFunction(fes_disp)  # velocity\n",
    "velocity_gfu = elfunc.give_uniform_displacement(velocity_gfu, (0.0, 0.0, 0.0))  # An initial velocity. Should only be used once in iteration.\n",
    "Draw(mag_gfu, mesh, \"magnetisation\")\n",
    "Draw(disp_gfu, mesh, \"displacement\")\n",
    "proj_mag = magfunc.nodal_projection(mag_gfu, fes_mag)\n",
    "\n",
    "a_mag_fixed = magfunc.build_fixed_mag(fes_mag, ALPHA, THETA, K)  # static portion of the magnetisation linear system"
   ]
  },
  {
   "cell_type": "code",
   "execution_count": 5,
   "metadata": {},
   "outputs": [
    {
     "name": "stdout",
     "output_type": "stream",
     "text": [
      "gmres completed in 0.010967254638671875, info=0, residual = 3.0834709785487746e-16\n",
      "stiffness max = 25.623121034315833\n",
      "force max = 26.23057319839993\n"
     ]
    },
    {
     "name": "stderr",
     "output_type": "stream",
     "text": [
      "C:\\Users\\gpb22197\\AppData\\Roaming\\Python\\Python37\\site-packages\\scipy\\sparse\\linalg\\dsolve\\linsolve.py:407: SparseEfficiencyWarning: splu requires CSC matrix format\n",
      "  warn('splu requires CSC matrix format', SparseEfficiencyWarning)\n"
     ]
    }
   ],
   "source": [
    "a_mag, f_mag = magfunc.build_magnetic_lin_system(\n",
    "    fes_mag, mag_gfu, ALPHA, THETA, K, KAPPA, disp_gfu, mu, lam, lambda_m, f_zeeman\n",
    ")\n",
    "B = magfunc.build_tangent_plane_matrix(mag_gfu)\n",
    "v = magfunc.give_magnetisation_update(a_mag, B, f_mag, a_mag_fixed)"
   ]
  },
  {
   "cell_type": "code",
   "execution_count": 8,
   "metadata": {},
   "outputs": [
    {
     "name": "stdout",
     "output_type": "stream",
     "text": [
      "9\n",
      "18\n",
      "18\n",
      "9\n",
      "18\n",
      "18\n",
      "9\n",
      "18\n",
      "18\n",
      "[[ 0.          0.          0.          0.          0.          0.\n",
      "   0.          0.          0.          0.50626259  0.          0.\n",
      "   0.          0.          0.          0.          0.          0.\n",
      "  -0.86237938  0.          0.          0.          0.          0.\n",
      "   0.          0.          0.        ]\n",
      " [ 0.92787791  0.          0.          0.          0.          0.\n",
      "   0.          0.          0.         -0.3215676   0.          0.\n",
      "   0.          0.          0.          0.          0.          0.\n",
      "  -0.1887773   0.          0.          0.          0.          0.\n",
      "   0.          0.          0.        ]\n",
      " [ 0.          0.          0.          0.          0.          0.\n",
      "   0.          0.          0.          0.         -0.96767721  0.\n",
      "   0.          0.          0.          0.          0.          0.\n",
      "   0.         -0.25219202  0.          0.          0.          0.\n",
      "   0.          0.          0.        ]\n",
      " [ 0.          0.9887718   0.          0.          0.          0.\n",
      "   0.          0.          0.          0.         -0.0376859   0.\n",
      "   0.          0.          0.          0.          0.          0.\n",
      "   0.          0.14460326  0.          0.          0.          0.\n",
      "   0.          0.          0.        ]\n",
      " [ 0.          0.          0.6603576   0.          0.          0.\n",
      "   0.          0.          0.          0.          0.          0.\n",
      "   0.          0.          0.          0.          0.          0.\n",
      "   0.          0.         -0.75095129  0.          0.          0.\n",
      "   0.          0.          0.        ]\n",
      " [ 0.          0.          0.03280098  0.          0.          0.\n",
      "   0.          0.          0.          0.          0.          0.99904561\n",
      "   0.          0.          0.          0.          0.          0.\n",
      "   0.          0.          0.02884392  0.          0.          0.\n",
      "   0.          0.          0.        ]\n",
      " [ 0.          0.          0.          0.83369818  0.          0.\n",
      "   0.          0.          0.          0.          0.          0.\n",
      "  -0.55222037  0.          0.          0.          0.          0.\n",
      "   0.          0.          0.          0.          0.          0.\n",
      "   0.          0.          0.        ]\n",
      " [ 0.          0.          0.         -0.12786032  0.          0.\n",
      "   0.          0.          0.          0.          0.          0.\n",
      "  -0.19303329  0.          0.          0.          0.          0.\n",
      "   0.          0.          0.          0.97282572  0.          0.\n",
      "   0.          0.          0.        ]\n",
      " [ 0.          0.          0.          0.          0.30371335  0.\n",
      "   0.          0.          0.          0.          0.          0.\n",
      "   0.          0.          0.          0.          0.          0.\n",
      "   0.          0.          0.          0.          0.95276346  0.\n",
      "   0.          0.          0.        ]\n",
      " [ 0.          0.          0.          0.          0.24809775  0.\n",
      "   0.          0.          0.          0.          0.          0.\n",
      "   0.          0.96550135  0.          0.          0.          0.\n",
      "   0.          0.          0.          0.         -0.07908636  0.\n",
      "   0.          0.          0.        ]\n",
      " [ 0.          0.          0.          0.          0.         -0.42165945\n",
      "   0.          0.          0.          0.          0.          0.\n",
      "   0.          0.          0.          0.          0.          0.\n",
      "   0.          0.          0.          0.          0.         -0.90675427\n",
      "   0.          0.          0.        ]\n",
      " [ 0.          0.          0.          0.          0.          0.29237326\n",
      "   0.          0.          0.          0.          0.          0.\n",
      "   0.          0.          0.94659013  0.          0.          0.\n",
      "   0.          0.          0.          0.          0.         -0.1359596\n",
      "   0.          0.          0.        ]\n",
      " [ 0.          0.          0.          0.          0.          0.\n",
      "   0.          0.          0.          0.          0.          0.\n",
      "   0.          0.          0.         -0.8996627   0.          0.\n",
      "   0.          0.          0.          0.          0.          0.\n",
      "  -0.43658565  0.          0.        ]\n",
      " [ 0.          0.          0.          0.          0.          0.\n",
      "   0.99965942  0.          0.          0.          0.          0.\n",
      "   0.          0.          0.          0.01139351  0.          0.\n",
      "   0.          0.          0.          0.          0.          0.\n",
      "  -0.02347836  0.          0.        ]\n",
      " [ 0.          0.          0.          0.          0.          0.\n",
      "   0.          0.          0.          0.          0.          0.\n",
      "   0.          0.          0.          0.         -0.24762565  0.\n",
      "   0.          0.          0.          0.          0.          0.\n",
      "   0.         -0.96885579  0.        ]\n",
      " [ 0.          0.          0.          0.          0.          0.\n",
      "   0.          0.98598795  0.          0.          0.          0.\n",
      "   0.          0.          0.          0.          0.16162116  0.\n",
      "   0.          0.          0.          0.          0.          0.\n",
      "   0.         -0.04130805  0.        ]\n",
      " [ 0.          0.          0.          0.          0.          0.\n",
      "   0.          0.         -0.72017411  0.          0.          0.\n",
      "   0.          0.          0.          0.          0.          0.69379337\n",
      "   0.          0.          0.          0.          0.          0.\n",
      "   0.          0.          0.        ]\n",
      " [ 0.          0.          0.          0.          0.          0.\n",
      "   0.          0.          0.14220448  0.          0.          0.\n",
      "   0.          0.          0.          0.          0.          0.14761165\n",
      "   0.          0.          0.          0.          0.          0.\n",
      "   0.          0.          0.97876896]]\n"
     ]
    }
   ],
   "source": [
    "Q = QMatrix.qmatrix(mag_gfu)\n",
    "print(Q.todense())\n",
    "\n"
   ]
  },
  {
   "cell_type": "code",
   "execution_count": 21,
   "metadata": {},
   "outputs": [
    {
     "data": {
      "text/plain": [
       "True"
      ]
     },
     "execution_count": 21,
     "metadata": {},
     "output_type": "execute_result"
    }
   ],
   "source": [
    "dotcheck = np.dot(Q,Q.T)\n",
    "np.allclose(dotcheck.todense(), np.identity(18), atol=1e-16)\n"
   ]
  }
 ],
 "metadata": {
  "kernelspec": {
   "display_name": "Python 3",
   "language": "python",
   "name": "python3"
  },
  "language_info": {
   "codemirror_mode": {
    "name": "ipython",
    "version": 3
   },
   "file_extension": ".py",
   "mimetype": "text/x-python",
   "name": "python",
   "nbconvert_exporter": "python",
   "pygments_lexer": "ipython3",
   "version": "3.7.9"
  },
  "orig_nbformat": 4
 },
 "nbformat": 4,
 "nbformat_minor": 2
}
