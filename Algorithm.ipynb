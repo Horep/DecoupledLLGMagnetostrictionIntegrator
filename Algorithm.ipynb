{
 "cells": [
  {
   "attachments": {},
   "cell_type": "markdown",
   "id": "da07342f",
   "metadata": {},
   "source": [
    "We import `netgen.gui` to open the netgen GUI for displaying the ferromagnet. \n",
    "We then define the geometry, and draw the box. \n",
    "The refinement of the mesh is controlled by `H_MAX` in `ngmesh`.\n",
    "The maximum time for the simulation is given by `T_MAX`, and has time step `K`.\n",
    "Use `THETA` to determine \"how implicit the tangent plane scheme solver is\". Closer to 1/2 is usually better, but must be above 1/2 for unconditional convergence."
   ]
  },
  {
   "cell_type": "code",
   "execution_count": null,
   "id": "d81bbe92",
   "metadata": {},
   "outputs": [],
   "source": [
    "from netgen.csg import *\n",
    "from ngsolve import *\n",
    "from ngsolve.utils import (\n",
    "    Grad\n",
    ")  # If I don't import these explicitly, VSCode reads them as missing.\n",
    "import netgen.gui  # this opens up the netgen ui\n",
    "import Magnetisation_Functions as magfunc\n",
    "import numpy as np\n",
    "import scipy.sparse as sp\n",
    "import matplotlib.pyplot as plt\n",
    "import Elastic_Functions as elfunc\n",
    "import General_Functions as genfunc\n",
    "import sys\n",
    "import time\n",
    "np.set_printoptions(threshold=sys.maxsize)\n",
    "\n",
    "\n",
    "# MATERIAL PARAMETERS\n",
    "M_s = 1.5e6\n",
    "gyromagnetic_ratio = 1.761e11\n",
    "exchange_length = 3e-9\n",
    "lambda_m: float = 30e-6  # saturation magnetostrain parameter\n",
    "mu_0 = 1.25663706e-6\n",
    "density = 7900\n",
    "KAPPA: float = genfunc.calculate_KAPPA(density, exchange_length, gyromagnetic_ratio, mu_0)  # Determines the relative strength of the elastic vs. magnetic parts.\n",
    "stress_fac = genfunc.stress_density_factor(KAPPA=KAPPA, mu_0=mu_0, M_s=M_s)\n",
    "mu, lam = 54e9/stress_fac, 172e9/stress_fac\n",
    "ALPHA: float = 1  # Dissipative constant in the LLG equation.\n",
    "\n",
    "# SIMULATION PARAMETERS\n",
    "T_MAX_DIM: float = 1e-9  # The maximum time for the simulation in seconds\n",
    "THETA: float = 0.50000005  # Should be strictly above 1/2 for unconditional stability, but close to 1/2 to reduce (artificial) numerical dissipation\n",
    "time_step_dim = 5e-13 # seconds\n",
    "K: float = time_step_dim*genfunc.nondimensional_time(gyromagnetic_ratio, mu_0, M_s=M_s)  # TIME STEP\n",
    "T_MAX: float = T_MAX_DIM*genfunc.nondimensional_time(gyromagnetic_ratio, mu_0, M_s=M_s)\n",
    "H_MAX: float = 0.7  # Determines how fine the mesh should be.\n",
    "\n",
    "print(f\"µ = {mu}, λ = {lam}, κ = {KAPPA}\")\n",
    "print(f\"K = {K}, T_MAX = {T_MAX}\")"
   ]
  },
  {
   "attachments": {},
   "cell_type": "markdown",
   "id": "1cd977bd",
   "metadata": {},
   "source": [
    "$\\boldsymbol\\sigma_{ij} = 2\\mu \\boldsymbol\\varepsilon_{ij}^{\\text{el}} + \\lambda \\delta_{ij}\\boldsymbol\\varepsilon_{kk}^{\\text{el}}$ Hooke's Law\n",
    "\n",
    "$\\mathbb{Z}_{ijkl} \\boldsymbol E_{kl} = \\frac{3\\lambda_{s}}{2}\\left(\\boldsymbol E_{ij} - \\frac{1}{3}\\delta_{ij}\\boldsymbol E_{kk}\\right)$  Isotropic, isochoric magnetostrain for some symmetric input"
   ]
  },
  {
   "attachments": {},
   "cell_type": "markdown",
   "id": "b823ac86",
   "metadata": {},
   "source": [
    "Here we make a cube with labelled faces."
   ]
  },
  {
   "cell_type": "code",
   "execution_count": null,
   "id": "4fffb481",
   "metadata": {},
   "outputs": [],
   "source": [
    "def MakeGeometry():  # this makes a box, with labelled faces\n",
    "    geometry = CSGeometry()\n",
    "    left = Plane(Pnt(0, 0, 0), Vec(-1, 0, 0)).bc(\"left\")\n",
    "    right = Plane(Pnt(20, 20, 20), Vec(1, 0, 0)).bc(\"right\")\n",
    "    front = Plane(Pnt(0, 0, 0), Vec(0, -1, 0)).bc(\"front\")\n",
    "    back = Plane(Pnt(6, 6, 6), Vec(0, 1, 0)).bc(\"back\")\n",
    "    bot = Plane(Pnt(0, 0, 0), Vec(0, 0, -1)).bc(\"bot\")\n",
    "    top = Plane(Pnt(6, 6, 6), Vec(0, 0, 1)).bc(\"top\")\n",
    "\n",
    "    cube = left * right * front * back * bot * top\n",
    "    geometry.Add(cube)\n",
    "    # cube = OrthoBrick(Pnt(0,0,0), Pnt(1,1,1))\n",
    "    return geometry\n",
    "\n",
    "\n",
    "ngmesh = MakeGeometry().GenerateMesh(maxh=H_MAX)\n",
    "# ngmesh.Save(\"cube.vol\")\n",
    "mesh = Mesh(ngmesh)\n",
    "Draw(mesh)\n",
    "genfunc.MaximumMeshSize(mesh)"
   ]
  },
  {
   "attachments": {},
   "cell_type": "markdown",
   "id": "f6cbe8e6",
   "metadata": {},
   "source": [
    "We make two FE spaces, one for magnetisation `fes_mag`, and one for displacement/velocity `fes_disp`. (and a legacy FE space for matrices `fes_eps_m`)\n",
    "\n",
    "The displacement has a `dirichlet` condition, in this case on the `left` face.\n",
    "\n",
    "We then introduce `f_body`, which is a body force density. We use simply gravity here. You can also set a traction on specific faces with `g_surface`."
   ]
  },
  {
   "cell_type": "code",
   "execution_count": null,
   "id": "0645f180",
   "metadata": {},
   "outputs": [],
   "source": [
    "fes_mag = VectorH1(\n",
    "    mesh, order=1\n",
    ")  # the finite element space for the magnetisation m_h^i\n",
    "fes_disp = VectorH1(\n",
    "    mesh, order=1, dirichlet=\"left\"\n",
    ")  # the finite element space for the displacement u_h^i\n",
    "fes_scalar = H1(mesh, order=1)\n",
    "print(f\"mag_ndof={fes_mag.ndof}, disp_ndof={fes_disp.ndof},\\n, dispfree_ndof={fes_disp.FreeDofs()}\")\n",
    "mag_gfu = GridFunction(fes_mag)\n",
    "disp_gfu = GridFunction(fes_disp)\n",
    "prev_disp_gfu = GridFunction(fes_disp) #  used to store the previous displacement\n",
    "zeeman_factor = Parameter(0)\n",
    "f_zeeman = CoefficientFunction((0, 0, zeeman_factor))\n",
    "# body force and traction force\n",
    "body_factor = Parameter(genfunc.force_density_grav(grav_accel=-9.81, density=density, exchange_length=exchange_length, KAPPA=KAPPA, mu_0=mu_0, M_s=M_s))\n",
    "f_body = CoefficientFunction((0.0, 0.0, body_factor))\n",
    "surface_factor = Parameter(1e-6)\n",
    "g_surface = CoefficientFunction([(0,surface_factor,0) if bc==\"right\" else (0,0,0) for bc in mesh.GetBoundaries()])\n",
    "Draw(g_surface, mesh, \"gsruface\")\n",
    "Draw(f_body, mesh, \"fbody\")\n",
    "print(body_factor)"
   ]
  },
  {
   "attachments": {},
   "cell_type": "markdown",
   "id": "1aab2998",
   "metadata": {},
   "source": [
    "Here we give initial conditions for the magnetisation and displacement.\n",
    "\n",
    "The magnetisation can either be given fully random, or uniform magnetisation. If you choose uniform, you must pick the direction. It will be automatically normalised.\n",
    "\n",
    "The displacement can also be given a fully random or uniform. For the displacement, you can choose the largest magnitude for the random displacement."
   ]
  },
  {
   "cell_type": "code",
   "execution_count": null,
   "id": "32f4ee56",
   "metadata": {},
   "outputs": [],
   "source": [
    "# Initial conditions\n",
    "mag_gfu = magfunc.give_uniform_magnetisation(mag_gfu, (1,0,0))\n",
    "#disp_gfu = elfunc.give_random_displacement(disp_gfu)\n",
    "disp_gfu = elfunc.give_uniform_displacement(disp_gfu, (0.0, 0.0, 0.0))  # initial displacement\n",
    "velocity_gfu = GridFunction(fes_disp)  # velocity\n",
    "# make initial conditions compatible with Dirichlet boundary conditions\n",
    "disp_gfu.Set(CoefficientFunction((0,0,0)), BND)\n",
    "velocity_gfu.Set(CoefficientFunction((0,0,0)), BND)\n",
    "velocity_gfu = elfunc.give_uniform_displacement(velocity_gfu, (0.0, 0.0, 0.0))  # An initial velocity. Should only be used once in iteration.\n",
    "Draw(mag_gfu, mesh, \"magnetisation\")\n",
    "Draw(disp_gfu, mesh, \"displacement\")\n",
    "proj_mag = magfunc.nodal_projection(mag_gfu, fes_mag)\n",
    "strain_m = magfunc.build_strain_m(proj_mag, lambda_m)\n",
    "box_vol = Integrate(CF(1.0), mesh)\n",
    "current_integral = magfunc.constraint_error(fes_scalar, mag_gfu, mesh)\n",
    "current_nodal_norm = magfunc.nodal_norm(mag_gfu)\n",
    "print(f\"_/‾|m|^2dx = {current_integral}, nodal max = {current_nodal_norm} (should both be 1)\")"
   ]
  },
  {
   "cell_type": "code",
   "execution_count": null,
   "id": "1f950d3e",
   "metadata": {},
   "outputs": [],
   "source": [
    "len(mag_gfu.vec)"
   ]
  },
  {
   "attachments": {},
   "cell_type": "markdown",
   "id": "6549015e",
   "metadata": {},
   "source": [
    "These are lists of values to be used in plotting later, to demonstrate that the `energy` decreases over time. The `integral_list` is a list of true integrals $\\int_{\\Omega}|\\mathbf{m}_{h}^{i}|^2 \\mathrm{d}x / \\int_{\\Omega}\\mathrm{d}x$, and the `nodal_sum_list` is a list of the sum of nodal magnitudes $\\max_{z_{k}\\in\\mathcal{N}_{h}}|\\mathbf{m}_{h}^{i}(z_{k})|^2$. The `nodal_sum_list` should be strictly increasing if the tangent plane scheme is functioning. "
   ]
  },
  {
   "cell_type": "code",
   "execution_count": null,
   "id": "1794bdc7",
   "metadata": {},
   "outputs": [],
   "source": [
    "energy_list = np.array([magfunc.magnetic_energy(mag_gfu, mesh, f_zeeman) + elfunc.elastic_energy(mesh, disp_gfu, strain_m, f_body, g_surface, KAPPA, mu, lam)])\n",
    "kin_energy_list = np.array([elfunc.initial_kinetic_energy(mesh, velocity_gfu, KAPPA)])\n",
    "integral_list = np.array([magfunc.constraint_error(fes_scalar, mag_gfu, mesh)])\n",
    "nodal_sum_list= np.array([magfunc.nodal_norm(mag_gfu)])\n",
    "x_avg, y_avg, z_avg = magfunc.component_integrator(mag_gfu, mesh, box_vol)\n",
    "x_average_list, y_average_list, z_average_list = np.array([x_avg]), np.array([y_avg]), np.array([z_avg])\n"
   ]
  },
  {
   "cell_type": "code",
   "execution_count": null,
   "id": "388bfa79",
   "metadata": {},
   "outputs": [],
   "source": [
    "genfunc.export_to_vtk_file(disp_gfu, mag_gfu, mesh, export=True, index=0)"
   ]
  },
  {
   "attachments": {},
   "cell_type": "markdown",
   "id": "55dba20f",
   "metadata": {},
   "source": [
    "This is the first run of the simulation, which needs to be treated differently as we have a prescribed initial velocity $\\dot{\\mathbf{u}}^{0}$. First compute the update $\\mathbf{v}_{h}^{i}$ to get $\\mathbf{m}_{h}^{i+1} = \\mathbf{m}_{h}^{i} + \\mathbf{v}_{h}^{i}$ using the tangent plane scheme (with GMRES). Then using the conservation of momentum equation calculate $\\mathbf{u}_{h}^{i+1}$ using the internal solver of NGSolve."
   ]
  },
  {
   "cell_type": "code",
   "execution_count": null,
   "id": "b0fd9057",
   "metadata": {},
   "outputs": [],
   "source": [
    "num_steps = genfunc.ceiling_division(T_MAX, K)  # This is ceiling division, using upside-down floor division.\n",
    "#first run\n",
    "M_mag_fixed, L_mag_fixed = magfunc.build_fixed_mag(fes_mag, ALPHA, THETA, K)  # static portion of the magnetisation linear system\n",
    "v0 = np.zeros(fes_mag.ndof)\n",
    "mag_gfu, v0 = magfunc.update_magnetisation(fes_mag, mag_gfu, ALPHA, THETA, K, KAPPA, disp_gfu, mu, lam, lambda_m, f_zeeman, M_mag_fixed, L_mag_fixed, v0)\n",
    "\n",
    "proj_mag = magfunc.nodal_projection(mag_gfu, fes_mag)\n",
    "strain_m = magfunc.build_strain_m(proj_mag, lambda_m)\n",
    "new_disp = elfunc.FIRST_RUN_update_displacement(fes_disp, disp_gfu, velocity_gfu, strain_m, f_body, g_surface, K, mu, lam)\n",
    "prev_disp_gfu.vec.data = disp_gfu.vec.data\n",
    "disp_gfu.vec.data = new_disp.vec.data\n",
    "\n",
    "current_integral = magfunc.constraint_error(fes_scalar, mag_gfu, mesh)\n",
    "current_nodal_norm = magfunc.nodal_norm(mag_gfu)\n",
    "current_energy = magfunc.magnetic_energy(mag_gfu, mesh, f_zeeman) + elfunc.elastic_energy(mesh, disp_gfu, strain_m, f_body, g_surface, KAPPA, mu, lam)\n",
    "current_kinetic_energy = elfunc.kinetic_energy(mesh, disp_gfu, prev_disp_gfu, KAPPA, K)\n",
    "\n",
    "\n",
    "integral_list = np.append(integral_list, current_integral)\n",
    "nodal_sum_list = np.append(nodal_sum_list, current_nodal_norm)\n",
    "energy_list = np.append(energy_list, current_energy)\n",
    "kin_energy_list = np.append(kin_energy_list, current_kinetic_energy)\n",
    "x_avg, y_avg, z_avg = magfunc.component_integrator(mag_gfu, mesh, box_vol)\n",
    "x_average_list, y_average_list, z_average_list = np.append(x_average_list, x_avg), np.append(y_average_list, y_avg), np.append(z_average_list, z_avg)"
   ]
  },
  {
   "cell_type": "code",
   "execution_count": null,
   "id": "998e892f",
   "metadata": {},
   "outputs": [],
   "source": [
    "mip = mesh(0.0, 0.0, 0)\n",
    "print(strain_m(mip))"
   ]
  },
  {
   "cell_type": "code",
   "execution_count": null,
   "id": "44b4bd65",
   "metadata": {},
   "outputs": [],
   "source": [
    "# subsequence runs\n",
    "print(f\"num_steps={num_steps}\")\n",
    "for i in range(1, num_steps):\n",
    "    time_start = time.time()\n",
    "    mag_gfu, v0 = magfunc.update_magnetisation(fes_mag, mag_gfu, ALPHA, THETA, K, KAPPA, disp_gfu, mu, lam, lambda_m, f_zeeman, M_mag_fixed, L_mag_fixed, v0)\n",
    "    proj_mag = magfunc.nodal_projection(mag_gfu, fes_mag)\n",
    "    strain_m = magfunc.build_strain_m(proj_mag, lambda_m)\n",
    "    new_disp = elfunc.update_displacement(fes_disp, disp_gfu, prev_disp_gfu, strain_m, f_body, g_surface, K, mu, lam)\n",
    "    prev_disp_gfu.vec.data = disp_gfu.vec.data\n",
    "    disp_gfu.vec.data = new_disp.vec.data\n",
    "    #Redraw()\n",
    "    current_integral = magfunc.constraint_error(fes_scalar, mag_gfu, mesh)\n",
    "    current_nodal_norm = magfunc.nodal_norm(mag_gfu)\n",
    "    current_energy = magfunc.magnetic_energy(mag_gfu, mesh, f_zeeman) + elfunc.elastic_energy(mesh, disp_gfu, strain_m, f_body, g_surface, KAPPA, mu, lam)\n",
    "    current_kinetic_energy = elfunc.kinetic_energy(mesh, disp_gfu, prev_disp_gfu, KAPPA, K)\n",
    "    print(f\"Step {i}:_/‾I_h(|m|^2) - 1 dx = {current_integral}, nodal max = {current_nodal_norm} (should both be 1)\\n\\\n",
    "        energy      = {current_energy}\")\n",
    "    print(f\"kinetic energy = {current_kinetic_energy}\")\n",
    "    genfunc.export_to_vtk_file(disp_gfu, mag_gfu, mesh, export=True, index=i, save_step=10)\n",
    "    integral_list = np.append(integral_list, current_integral)\n",
    "    nodal_sum_list = np.append(nodal_sum_list, current_nodal_norm)\n",
    "    energy_list = np.append(energy_list, current_energy)\n",
    "    kin_energy_list = np.append(kin_energy_list, current_kinetic_energy)\n",
    "    x_avg, y_avg, z_avg = magfunc.component_integrator(mag_gfu, mesh, box_vol)\n",
    "    x_average_list, y_average_list, z_average_list = np.append(x_average_list, x_avg), np.append(y_average_list, y_avg), np.append(z_average_list, z_avg)\n",
    "    time_end = time.time()\n",
    "    print(f\"estimated remaining time = {genfunc.est_time_remaining(num_steps, i, time_end-time_start)}\")\n"
   ]
  },
  {
   "attachments": {},
   "cell_type": "markdown",
   "id": "7a395e24",
   "metadata": {},
   "source": [
    "Now we plot the `energy_list`, `kin_energy_list` and also the `integral_list`+`nodal_sum_list`."
   ]
  },
  {
   "cell_type": "code",
   "execution_count": null,
   "id": "a276e595",
   "metadata": {},
   "outputs": [],
   "source": [
    "my_time = np.linspace(0, T_MAX_DIM, num_steps+1)\n",
    "\n",
    "plt.plot(my_time, energy_list+kin_energy_list, label=\"Total Energy\")\n",
    "plt.xlabel(\"Time\")\n",
    "plt.title(f\"dt = {time_step_dim}, total = {T_MAX_DIM}, {num_steps} steps\")\n",
    "plt.legend()\n",
    "plt.savefig(\"total_energy_graph.pdf\")"
   ]
  },
  {
   "cell_type": "code",
   "execution_count": null,
   "id": "4bac736e",
   "metadata": {},
   "outputs": [],
   "source": [
    "my_time = np.linspace(0, T_MAX_DIM, num_steps+1)\n",
    "\n",
    "plt.plot(my_time, energy_list, label=\"Pot. Energy\")\n",
    "plt.xlabel(\"Time\")\n",
    "plt.title(f\"dt = {time_step_dim}, total = {T_MAX_DIM}, {num_steps} steps\")\n",
    "plt.legend()\n",
    "plt.savefig(\"potential_energy_graph.pdf\")\n"
   ]
  },
  {
   "cell_type": "code",
   "execution_count": null,
   "id": "8b7bdd9b",
   "metadata": {},
   "outputs": [],
   "source": [
    "\n",
    "plt.plot(my_time, kin_energy_list, label=\"Kin. Energy\")\n",
    "plt.xlabel(\"Time\")\n",
    "plt.title(f\"dt = {time_step_dim}, total = {T_MAX_DIM}, {num_steps} steps\")\n",
    "plt.legend()\n",
    "plt.savefig(\"kinetic_graph.pdf\")"
   ]
  },
  {
   "cell_type": "code",
   "execution_count": null,
   "id": "add19af3",
   "metadata": {},
   "outputs": [],
   "source": [
    "plt.plot(my_time, integral_list, label=r\"$\\int_{\\Omega}|\\mathcal{I}_{h}(|\\mathbf{m}_{h}^{i}|^2)-1| \\mathrm{d}x$\")\n",
    "plt.xlabel(r\"time\")\n",
    "plt.legend()\n",
    "plt.savefig(\"integral_graph.pdf\")"
   ]
  },
  {
   "cell_type": "code",
   "execution_count": null,
   "id": "90d67b78",
   "metadata": {},
   "outputs": [],
   "source": [
    "plt.plot(my_time, nodal_sum_list, label=r\"$\\max |\\mathbf{m}(z_k)|^2$\")\n",
    "plt.xlabel(r\"time\")\n",
    "plt.legend()\n",
    "plt.savefig(\"nodalmax_graph.pdf\")"
   ]
  },
  {
   "cell_type": "code",
   "execution_count": null,
   "id": "2383c8c6",
   "metadata": {},
   "outputs": [],
   "source": [
    "totalenergy = energy_list+kin_energy_list\n",
    "np.save(\"totalenergy\", totalenergy)\n",
    "np.save(\"potentialenergy\", energy_list)\n",
    "np.save(\"kinenergy\", kin_energy_list)\n",
    "np.save(\"integrals\", integral_list)\n",
    "np.save(\"mytimelist\", my_time)\n",
    "np.save(\"x_average\", x_average_list)\n",
    "np.save(\"y_average\", y_average_list)\n",
    "np.save(\"z_average\", z_average_list)"
   ]
  },
  {
   "attachments": {},
   "cell_type": "markdown",
   "id": "2e21496c",
   "metadata": {},
   "source": [
    "$\\int_{\\Omega}|\\mathcal{I}_{h}(|\\mathbf{m}_{h}^{N}|^2)-1| \\mathrm{d}x$"
   ]
  },
  {
   "cell_type": "code",
   "execution_count": null,
   "id": "c8d40bc5",
   "metadata": {},
   "outputs": [],
   "source": [
    "print(f\"Constraint error is {magfunc.constraint_error(fes_scalar, mag_gfu, mesh)}\")"
   ]
  },
  {
   "cell_type": "code",
   "execution_count": null,
   "id": "a5b60d28",
   "metadata": {},
   "outputs": [],
   "source": [
    "plt.plot(my_time, x_average_list, label=r\"$\\langle m_{x} \\rangle$\")\n",
    "plt.xlabel(r\"time (s)\")\n",
    "plt.legend()\n",
    "plt.savefig(\"x_average_graph.pdf\")"
   ]
  },
  {
   "cell_type": "code",
   "execution_count": null,
   "id": "07b217f6",
   "metadata": {},
   "outputs": [],
   "source": [
    "plt.plot(my_time, y_average_list, label=r\"$\\langle m_{y} \\rangle$\")\n",
    "plt.xlabel(r\"time (s)\")\n",
    "plt.legend()\n",
    "plt.savefig(\"y_average_graph.pdf\")"
   ]
  },
  {
   "cell_type": "code",
   "execution_count": null,
   "id": "f2afe6f7",
   "metadata": {},
   "outputs": [],
   "source": [
    "plt.plot(my_time, z_average_list, label=r\"$\\langle m_{z} \\rangle$\")\n",
    "plt.xlabel(r\"time (s)\")\n",
    "plt.legend()\n",
    "plt.savefig(\"z_average_graph.pdf\")"
   ]
  }
 ],
 "metadata": {
  "kernelspec": {
   "display_name": "Python 3",
   "language": "python",
   "name": "python3"
  },
  "language_info": {
   "codemirror_mode": {
    "name": "ipython",
    "version": 3
   },
   "file_extension": ".py",
   "mimetype": "text/x-python",
   "name": "python",
   "nbconvert_exporter": "python",
   "pygments_lexer": "ipython3",
   "version": "3.7.9"
  },
  "vscode": {
   "interpreter": {
    "hash": "5109d816b82be14675a6b11f8e0f0d2e80f029176ed3710d54e125caa8520dfd"
   }
  }
 },
 "nbformat": 4,
 "nbformat_minor": 5
}
