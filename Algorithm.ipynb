{
 "cells": [
  {
   "attachments": {},
   "cell_type": "markdown",
   "id": "da07342f",
   "metadata": {},
   "source": [
    "We import `netgen.gui` to open the netgen GUI for displaying the ferromagnet. \n",
    "We then define the geometry, and draw the box. \n",
    "The refinement of the mesh is controlled by `H_MAX` in `ngmesh`.\n",
    "The maximum time for the simulation is given by `T_MAX`, and has time step `K`.\n",
    "Use `THETA` to determine \"how implicit the tangent plane scheme solver is\". Closer to 1/2 is usually better, but must be above 1/2 for unconditional convergence."
   ]
  },
  {
   "cell_type": "code",
   "execution_count": null,
   "id": "d81bbe92",
   "metadata": {},
   "outputs": [],
   "source": [
    "from netgen.csg import *\n",
    "from ngsolve import *\n",
    "from ngsolve.utils import (\n",
    "    Grad\n",
    ")  # If I don't import these explicitly, VSCode reads them as missing.\n",
    "import netgen.gui  # this opens up the netgen ui\n",
    "import Magnetisation_Functions as magfunc\n",
    "import numpy as np\n",
    "import scipy.sparse as sp\n",
    "import matplotlib.pyplot as plt\n",
    "import Elastic_Functions as elfunc\n",
    "import General_Functions as genfunc\n",
    "import sys\n",
    "np.set_printoptions(threshold=sys.maxsize)\n",
    "\n",
    "T_MAX_DIM: float = 100e-9  # The maximum time for the simulation in picoseconds\n",
    "ALPHA: float = 1  # Dissipative constant in the LLG equation.\n",
    "THETA: float = 0.505  # Should be strictly above 1/2 for unconditional stability\n",
    "time_step_dim = 1e-10 # seconds\n",
    "K: float = time_step_dim*genfunc.nondimensional_time(1.761e11, 1.25663706e-6, 217.6)  # TIME STEP\n",
    "T_MAX: float = T_MAX_DIM*genfunc.nondimensional_time(1.761e11, 1.25663706e-6, 217.6)\n",
    "KAPPA: float = genfunc.calculate_KAPPA(7874, 3e-9, -1.761e11, 1.25663706e-6)  # Determines the relative strength of the elastic vs. magnetic parts. Uses values for iron here.\n",
    "#mu, lam = genfunc.lame_parameters(E=2.04e11, v=0.25, KAPPA=KAPPA, mu_0=1.25663706e-6, M_s=217.6)  # determines lame parameters, using iron as a baseline\n",
    "stress_fac = genfunc.stress_density_factor(KAPPA=KAPPA, mu_0=1.25663706e-6, M_s=217.6)\n",
    "mu, lam = 54e9/stress_fac, 172e9/stress_fac\n",
    "lambda_m: float = 1e-6  # saturation magnetostrain parameter\n",
    "H_MAX: float = 0.4  # Determines how fine the mesh should be.\n",
    "print(f\"µ = {mu}, λ = {lam}, κ = {KAPPA}\")\n",
    "print(f\"K = {K}, T_MAX = {T_MAX}\")"
   ]
  },
  {
   "attachments": {},
   "cell_type": "markdown",
   "id": "1cd977bd",
   "metadata": {},
   "source": [
    "$\\boldsymbol\\sigma_{ij} = 2\\mu \\boldsymbol\\varepsilon_{ij}^{\\text{el}} + \\lambda \\delta_{ij}\\boldsymbol\\varepsilon_{kk}^{\\text{el}}$ Hooke's Law\n",
    "\n",
    "$\\mathbb{Z}_{ijkl} \\boldsymbol E_{kl} = \\frac{3\\lambda_{s}}{2}\\left(\\boldsymbol E_{ij} - \\frac{1}{3}\\delta_{ij}\\boldsymbol E_{kk}\\right)$  Isotropic, isochoric magnetostrain for some symmetric input"
   ]
  },
  {
   "attachments": {},
   "cell_type": "markdown",
   "id": "b823ac86",
   "metadata": {},
   "source": [
    "Here we make a cube with labelled faces."
   ]
  },
  {
   "cell_type": "code",
   "execution_count": null,
   "id": "4fffb481",
   "metadata": {},
   "outputs": [],
   "source": [
    "def MakeGeometry():  # this makes a box, with labelled faces\n",
    "    geometry = CSGeometry()\n",
    "    left = Plane(Pnt(0, 0, 0), Vec(-1, 0, 0)).bc(\"left\")\n",
    "    right = Plane(Pnt(6, 6, 6), Vec(1, 0, 0)).bc(\"right\")\n",
    "    front = Plane(Pnt(0, 0, 0), Vec(0, -1, 0)).bc(\"front\")\n",
    "    back = Plane(Pnt(6, 6, 6), Vec(0, 1, 0)).bc(\"back\")\n",
    "    bot = Plane(Pnt(0, 0, 0), Vec(0, 0, -1)).bc(\"bot\")\n",
    "    top = Plane(Pnt(6, 6, 6), Vec(0, 0, 1)).bc(\"top\")\n",
    "\n",
    "    cube = left * right * front * back * bot * top\n",
    "    geometry.Add(cube)\n",
    "    # cube = OrthoBrick(Pnt(0,0,0), Pnt(1,1,1))\n",
    "    return geometry\n",
    "\n",
    "\n",
    "ngmesh = MakeGeometry().GenerateMesh(maxh=H_MAX)\n",
    "# ngmesh.Save(\"cube.vol\")\n",
    "mesh = Mesh(ngmesh)\n",
    "Draw(mesh)"
   ]
  },
  {
   "attachments": {},
   "cell_type": "markdown",
   "id": "f6cbe8e6",
   "metadata": {},
   "source": [
    "We make two FE spaces, one for magnetisation `fes_mag`, and one for displacement/velocity `fes_disp`. (and a legacy FE space for matrices `fes_eps_m`)\n",
    "\n",
    "The displacement has a `dirichlet` condition, in this case on the `left` face.\n",
    "\n",
    "We then introduce `f_body`, which is a body force density. We use simply gravity here. You can also set a traction on specific faces with `g_surface`."
   ]
  },
  {
   "cell_type": "code",
   "execution_count": null,
   "id": "0645f180",
   "metadata": {},
   "outputs": [],
   "source": [
    "fes_mag = VectorH1(\n",
    "    mesh, order=1\n",
    ")  # the finite element space for the magnetisation m_h^i\n",
    "fes_eps_m = MatrixValued(\n",
    "    H1(mesh, order=1), dim=3\n",
    ")  # matrix FE space on the magnetic part\n",
    "fes_disp = VectorH1(\n",
    "    mesh, order=1, dirichlet=\"left\"\n",
    ")  # the finite element space for the displacement u_h^i\n",
    "\n",
    "print(f\"mag_ndof={fes_mag.ndof}, disp_ndof={fes_disp.ndof},\\n, dispfree_ndof={fes_disp.FreeDofs()}\")\n",
    "mag_gfu = GridFunction(fes_mag)\n",
    "disp_gfu = GridFunction(fes_disp)\n",
    "prev_disp_gfu = GridFunction(fes_disp) #  used to store the previous displacement\n",
    "zeeman_factor = Parameter(0)\n",
    "f_zeeman = CoefficientFunction((0, 0, zeeman_factor))\n",
    "# body force and traction force\n",
    "body_factor = Parameter(genfunc.force_density_grav(grav_accel=-9.81, density=7874, exchange_length=3e-9, KAPPA=KAPPA, mu_0=1.25663706e-6, M_s=217.6))\n",
    "body_factor = 0.0\n",
    "f_body = CoefficientFunction((0.0, 0.0, body_factor))\n",
    "surface_factor = Parameter(0)\n",
    "g_surface = CoefficientFunction([(0,surface_factor,0) if bc==\"top\" else (0,0,0) for bc in mesh.GetBoundaries()])"
   ]
  },
  {
   "attachments": {},
   "cell_type": "markdown",
   "id": "1aab2998",
   "metadata": {},
   "source": [
    "Here we give initial conditions for the magnetisation and displacement.\n",
    "\n",
    "The magnetisation can either be given fully random, or uniform magnetisation. If you choose uniform, you must pick the direction. It will be automatically normalised.\n",
    "\n",
    "The displacement can also be given a fully random or uniform. For the displacement, you can choose the largest magnitude for the random displacement."
   ]
  },
  {
   "cell_type": "code",
   "execution_count": null,
   "id": "32f4ee56",
   "metadata": {},
   "outputs": [],
   "source": [
    "# Initial conditions\n",
    "mag_gfu = magfunc.give_random_magnetisation(mag_gfu)\n",
    "#disp_gfu = elfunc.give_random_displacement(disp_gfu)\n",
    "disp_gfu = elfunc.give_uniform_displacement(disp_gfu, (0.0, 0.0, 0.0))  # initial displacement\n",
    "velocity_gfu = GridFunction(fes_disp)  # velocity\n",
    "velocity_gfu = elfunc.give_uniform_displacement(velocity_gfu, (0.0, 0.0, 0.0))  # An initial velocity. Should only be used once in iteration.\n",
    "Draw(mag_gfu, mesh, \"magnetisation\")\n",
    "Draw(disp_gfu, mesh, \"displacement\")\n",
    "proj_mag = magfunc.nodal_projection(mag_gfu, fes_mag)\n",
    "strain_m = magfunc.build_strain_m(proj_mag, lambda_m)\n",
    "box_vol = Integrate(CoefficientFunction(1.0), mesh, VOL)  # the volume of the mesh, used to normalise the square magnitude integral\n",
    "current_integral = Integrate(mag_gfu*mag_gfu, mesh, VOL)/box_vol\n",
    "current_nodal_norm = magfunc.nodal_norm(mag_gfu)\n",
    "print(f\"_/‾|m|^2dx = {current_integral}, nodal sum = {current_nodal_norm} (should both be 1)\")"
   ]
  },
  {
   "attachments": {},
   "cell_type": "markdown",
   "id": "6549015e",
   "metadata": {},
   "source": [
    "These are lists of values to be used in plotting later, to demonstrate that the `energy` decreases over time. The `integral_list` is a list of true integrals $\\int_{\\Omega}|\\mathbf{m}_{h}^{i}|^2 \\mathrm{d}x / \\int_{\\Omega}\\mathrm{d}x$, and the `nodal_sum_list` is a list of the sum of nodal magnitudes $\\sum_{z_{k}\\in\\mathcal{N}_{h}}|\\mathbf{m}_{h}^{i}(z_{k})|^2 / \\#\\mathcal{N}_{h}$. The `nodal_sum_list` should be strictly increasing if the tangent plane scheme is functioning. "
   ]
  },
  {
   "cell_type": "code",
   "execution_count": null,
   "id": "1794bdc7",
   "metadata": {},
   "outputs": [],
   "source": [
    "energy_list = np.array([magfunc.magnetic_energy(mag_gfu, mesh, f_zeeman)]) #  + elfunc.elastic_energy(mesh, disp_gfu, strain_m, f_body, g_surface, KAPPA, mu, lam)\n",
    "kin_energy_list = np.array([elfunc.initial_kinetic_energy(mesh, velocity_gfu, KAPPA)])\n",
    "integral_list = np.array([Integrate(mag_gfu*mag_gfu, mesh, VOL)/box_vol])\n",
    "nodal_sum_list= np.array([magfunc.nodal_norm(mag_gfu)])"
   ]
  },
  {
   "cell_type": "code",
   "execution_count": null,
   "id": "388bfa79",
   "metadata": {},
   "outputs": [],
   "source": [
    "genfunc.export_to_vtk_file(disp_gfu, mag_gfu, mesh, export=True, index=0)"
   ]
  },
  {
   "attachments": {},
   "cell_type": "markdown",
   "id": "55dba20f",
   "metadata": {},
   "source": [
    "This is the first run of the simulation, which needs to be treated differently as we have a prescribed initial velocity $\\dot{\\mathbf{u}}^{0}$. First compute the update $\\mathbf{v}_{h}^{i}$ to get $\\mathbf{m}_{h}^{i+1} = \\mathbf{m}_{h}^{i} + \\mathbf{v}_{h}^{i}$ using the tangent plane scheme (with GMRES). Then using the conservation of momentum equation calculate $\\mathbf{u}_{h}^{i+1}$ using the internal solver of NGSolve."
   ]
  },
  {
   "cell_type": "code",
   "execution_count": null,
   "id": "b0fd9057",
   "metadata": {},
   "outputs": [],
   "source": [
    "num_steps = genfunc.ceiling_division(T_MAX, K)  # This is ceiling division, using upside-down floor division.\n",
    "#first run\n",
    "\n",
    "mag_gfu = magfunc.update_magnetisation(fes_mag, mag_gfu, ALPHA, THETA, K, KAPPA, disp_gfu, mu, lam, lambda_m, f_zeeman)\n",
    "\n",
    "proj_mag = magfunc.nodal_projection(mag_gfu, fes_mag)\n",
    "strain_m = magfunc.build_strain_m(proj_mag, lambda_m)\n",
    "new_disp = elfunc.FIRST_RUN_update_displacement(fes_disp, disp_gfu, velocity_gfu, strain_m, f_body, g_surface, K, mu, lam)\n",
    "prev_disp_gfu.vec.data = disp_gfu.vec.data\n",
    "disp_gfu.vec.data = new_disp.vec.data\n",
    "\n",
    "current_integral = Integrate(mag_gfu*mag_gfu, mesh, VOL)/box_vol\n",
    "current_nodal_norm = magfunc.nodal_norm(mag_gfu)\n",
    "current_energy = magfunc.magnetic_energy(mag_gfu, mesh, f_zeeman) #+ elfunc.elastic_energy(mesh, disp_gfu, strain_m, f_body, g_surface, KAPPA, mu, lam)\n",
    "current_kinetic_energy = elfunc.kinetic_energy(mesh, disp_gfu, prev_disp_gfu, KAPPA, K)\n",
    "\n",
    "\n",
    "integral_list = np.append(integral_list, current_integral)\n",
    "nodal_sum_list = np.append(nodal_sum_list, current_nodal_norm)\n",
    "energy_list = np.append(energy_list, current_energy)\n",
    "kin_energy_list = np.append(kin_energy_list, current_kinetic_energy)"
   ]
  },
  {
   "cell_type": "code",
   "execution_count": null,
   "id": "998e892f",
   "metadata": {},
   "outputs": [],
   "source": [
    "mip = mesh(0.0, 0.0, 0)\n",
    "print(strain_m(mip))"
   ]
  },
  {
   "cell_type": "code",
   "execution_count": null,
   "id": "44b4bd65",
   "metadata": {},
   "outputs": [],
   "source": [
    "# subsequence runs\n",
    "for i in range(1, num_steps):  # UPPER BOUND SHOULD BE `num_steps`, TESTING!\n",
    "    mag_gfu = magfunc.update_magnetisation(fes_mag, mag_gfu, ALPHA, THETA, K, KAPPA, disp_gfu, mu, lam, lambda_m, f_zeeman)\n",
    "    proj_mag = magfunc.nodal_projection(mag_gfu, fes_mag)\n",
    "    strain_m = magfunc.build_strain_m(proj_mag, lambda_m)\n",
    "    new_disp = elfunc.update_displacement(fes_disp, disp_gfu, prev_disp_gfu, strain_m, f_body, g_surface, K, mu, lam)\n",
    "    prev_disp_gfu.vec.data = disp_gfu.vec.data\n",
    "    disp_gfu.vec.data = new_disp.vec.data\n",
    "    #Redraw()\n",
    "    current_integral = Integrate(mag_gfu*mag_gfu, mesh, VOL)/box_vol\n",
    "    current_nodal_norm = magfunc.nodal_norm(mag_gfu)\n",
    "    current_energy = magfunc.magnetic_energy(mag_gfu, mesh, f_zeeman) #+ elfunc.elastic_energy(mesh, disp_gfu, strain_m, f_body, g_surface, KAPPA, mu, lam)\n",
    "    current_kinetic_energy = elfunc.kinetic_energy(mesh, disp_gfu, prev_disp_gfu, KAPPA, K)\n",
    "    print(f\"Step {i}:_/‾|m|^2dx = {current_integral}, nodal sum = {current_nodal_norm} (should both be 1)\\n\\\n",
    "        energy      = {current_energy}\")\n",
    "    print(f\"kinetic energy = {current_kinetic_energy}\")\n",
    "    genfunc.export_to_vtk_file(disp_gfu, mag_gfu, mesh, export=True, index=i, save_step=10)\n",
    "    integral_list = np.append(integral_list, current_integral)\n",
    "    nodal_sum_list = np.append(nodal_sum_list, current_nodal_norm)\n",
    "    energy_list = np.append(energy_list, current_energy)\n",
    "    kin_energy_list = np.append(kin_energy_list, current_kinetic_energy)\n"
   ]
  },
  {
   "attachments": {},
   "cell_type": "markdown",
   "id": "7a395e24",
   "metadata": {},
   "source": [
    "Now we plot the `energy_list`, `kin_energy_list` and also the `integral_list`+`nodal_sum_list`."
   ]
  },
  {
   "cell_type": "code",
   "execution_count": 45,
   "id": "4bac736e",
   "metadata": {},
   "outputs": [
    {
     "ename": "ValueError",
     "evalue": "x and y must have same first dimension, but have shapes (1001,) and (570,)",
     "output_type": "error",
     "traceback": [
      "\u001b[1;31m---------------------------------------------------------------------------\u001b[0m",
      "\u001b[1;31mValueError\u001b[0m                                Traceback (most recent call last)",
      "\u001b[1;32m~\\AppData\\Local\\Temp\\ipykernel_16768\\3343736833.py\u001b[0m in \u001b[0;36m<module>\u001b[1;34m\u001b[0m\n\u001b[0;32m      1\u001b[0m \u001b[0mmy_time\u001b[0m \u001b[1;33m=\u001b[0m \u001b[0mnp\u001b[0m\u001b[1;33m.\u001b[0m\u001b[0mlinspace\u001b[0m\u001b[1;33m(\u001b[0m\u001b[1;36m0\u001b[0m\u001b[1;33m,\u001b[0m \u001b[0mT_MAX_DIM\u001b[0m\u001b[1;33m,\u001b[0m \u001b[0mnum_steps\u001b[0m\u001b[1;33m+\u001b[0m\u001b[1;36m1\u001b[0m\u001b[1;33m)\u001b[0m\u001b[1;33m\u001b[0m\u001b[1;33m\u001b[0m\u001b[0m\n\u001b[0;32m      2\u001b[0m \u001b[1;33m\u001b[0m\u001b[0m\n\u001b[1;32m----> 3\u001b[1;33m \u001b[0mplt\u001b[0m\u001b[1;33m.\u001b[0m\u001b[0mplot\u001b[0m\u001b[1;33m(\u001b[0m\u001b[0mmy_time\u001b[0m\u001b[1;33m,\u001b[0m \u001b[0menergy_list\u001b[0m\u001b[1;33m,\u001b[0m \u001b[0mlabel\u001b[0m\u001b[1;33m=\u001b[0m\u001b[1;34m\"Energy\"\u001b[0m\u001b[1;33m)\u001b[0m\u001b[1;33m\u001b[0m\u001b[1;33m\u001b[0m\u001b[0m\n\u001b[0m\u001b[0;32m      4\u001b[0m \u001b[0mplt\u001b[0m\u001b[1;33m.\u001b[0m\u001b[0mxlabel\u001b[0m\u001b[1;33m(\u001b[0m\u001b[1;34m\"Time\"\u001b[0m\u001b[1;33m)\u001b[0m\u001b[1;33m\u001b[0m\u001b[1;33m\u001b[0m\u001b[0m\n\u001b[0;32m      5\u001b[0m \u001b[0mplt\u001b[0m\u001b[1;33m.\u001b[0m\u001b[0mtitle\u001b[0m\u001b[1;33m(\u001b[0m\u001b[1;34mf\"dt = {time_step_dim}, total = {T_MAX_DIM}, {num_steps} steps\"\u001b[0m\u001b[1;33m)\u001b[0m\u001b[1;33m\u001b[0m\u001b[1;33m\u001b[0m\u001b[0m\n",
      "\u001b[1;32m~\\AppData\\Roaming\\Python\\Python37\\site-packages\\matplotlib\\pyplot.py\u001b[0m in \u001b[0;36mplot\u001b[1;34m(scalex, scaley, data, *args, **kwargs)\u001b[0m\n\u001b[0;32m   2767\u001b[0m     return gca().plot(\n\u001b[0;32m   2768\u001b[0m         \u001b[1;33m*\u001b[0m\u001b[0margs\u001b[0m\u001b[1;33m,\u001b[0m \u001b[0mscalex\u001b[0m\u001b[1;33m=\u001b[0m\u001b[0mscalex\u001b[0m\u001b[1;33m,\u001b[0m \u001b[0mscaley\u001b[0m\u001b[1;33m=\u001b[0m\u001b[0mscaley\u001b[0m\u001b[1;33m,\u001b[0m\u001b[1;33m\u001b[0m\u001b[1;33m\u001b[0m\u001b[0m\n\u001b[1;32m-> 2769\u001b[1;33m         **({\"data\": data} if data is not None else {}), **kwargs)\n\u001b[0m\u001b[0;32m   2770\u001b[0m \u001b[1;33m\u001b[0m\u001b[0m\n\u001b[0;32m   2771\u001b[0m \u001b[1;33m\u001b[0m\u001b[0m\n",
      "\u001b[1;32m~\\AppData\\Roaming\\Python\\Python37\\site-packages\\matplotlib\\axes\\_axes.py\u001b[0m in \u001b[0;36mplot\u001b[1;34m(self, scalex, scaley, data, *args, **kwargs)\u001b[0m\n\u001b[0;32m   1633\u001b[0m         \"\"\"\n\u001b[0;32m   1634\u001b[0m         \u001b[0mkwargs\u001b[0m \u001b[1;33m=\u001b[0m \u001b[0mcbook\u001b[0m\u001b[1;33m.\u001b[0m\u001b[0mnormalize_kwargs\u001b[0m\u001b[1;33m(\u001b[0m\u001b[0mkwargs\u001b[0m\u001b[1;33m,\u001b[0m \u001b[0mmlines\u001b[0m\u001b[1;33m.\u001b[0m\u001b[0mLine2D\u001b[0m\u001b[1;33m)\u001b[0m\u001b[1;33m\u001b[0m\u001b[1;33m\u001b[0m\u001b[0m\n\u001b[1;32m-> 1635\u001b[1;33m         \u001b[0mlines\u001b[0m \u001b[1;33m=\u001b[0m \u001b[1;33m[\u001b[0m\u001b[1;33m*\u001b[0m\u001b[0mself\u001b[0m\u001b[1;33m.\u001b[0m\u001b[0m_get_lines\u001b[0m\u001b[1;33m(\u001b[0m\u001b[1;33m*\u001b[0m\u001b[0margs\u001b[0m\u001b[1;33m,\u001b[0m \u001b[0mdata\u001b[0m\u001b[1;33m=\u001b[0m\u001b[0mdata\u001b[0m\u001b[1;33m,\u001b[0m \u001b[1;33m**\u001b[0m\u001b[0mkwargs\u001b[0m\u001b[1;33m)\u001b[0m\u001b[1;33m]\u001b[0m\u001b[1;33m\u001b[0m\u001b[1;33m\u001b[0m\u001b[0m\n\u001b[0m\u001b[0;32m   1636\u001b[0m         \u001b[1;32mfor\u001b[0m \u001b[0mline\u001b[0m \u001b[1;32min\u001b[0m \u001b[0mlines\u001b[0m\u001b[1;33m:\u001b[0m\u001b[1;33m\u001b[0m\u001b[1;33m\u001b[0m\u001b[0m\n\u001b[0;32m   1637\u001b[0m             \u001b[0mself\u001b[0m\u001b[1;33m.\u001b[0m\u001b[0madd_line\u001b[0m\u001b[1;33m(\u001b[0m\u001b[0mline\u001b[0m\u001b[1;33m)\u001b[0m\u001b[1;33m\u001b[0m\u001b[1;33m\u001b[0m\u001b[0m\n",
      "\u001b[1;32m~\\AppData\\Roaming\\Python\\Python37\\site-packages\\matplotlib\\axes\\_base.py\u001b[0m in \u001b[0;36m__call__\u001b[1;34m(self, data, *args, **kwargs)\u001b[0m\n\u001b[0;32m    310\u001b[0m                 \u001b[0mthis\u001b[0m \u001b[1;33m+=\u001b[0m \u001b[0margs\u001b[0m\u001b[1;33m[\u001b[0m\u001b[1;36m0\u001b[0m\u001b[1;33m]\u001b[0m\u001b[1;33m,\u001b[0m\u001b[1;33m\u001b[0m\u001b[1;33m\u001b[0m\u001b[0m\n\u001b[0;32m    311\u001b[0m                 \u001b[0margs\u001b[0m \u001b[1;33m=\u001b[0m \u001b[0margs\u001b[0m\u001b[1;33m[\u001b[0m\u001b[1;36m1\u001b[0m\u001b[1;33m:\u001b[0m\u001b[1;33m]\u001b[0m\u001b[1;33m\u001b[0m\u001b[1;33m\u001b[0m\u001b[0m\n\u001b[1;32m--> 312\u001b[1;33m             \u001b[1;32myield\u001b[0m \u001b[1;32mfrom\u001b[0m \u001b[0mself\u001b[0m\u001b[1;33m.\u001b[0m\u001b[0m_plot_args\u001b[0m\u001b[1;33m(\u001b[0m\u001b[0mthis\u001b[0m\u001b[1;33m,\u001b[0m \u001b[0mkwargs\u001b[0m\u001b[1;33m)\u001b[0m\u001b[1;33m\u001b[0m\u001b[1;33m\u001b[0m\u001b[0m\n\u001b[0m\u001b[0;32m    313\u001b[0m \u001b[1;33m\u001b[0m\u001b[0m\n\u001b[0;32m    314\u001b[0m     \u001b[1;32mdef\u001b[0m \u001b[0mget_next_color\u001b[0m\u001b[1;33m(\u001b[0m\u001b[0mself\u001b[0m\u001b[1;33m)\u001b[0m\u001b[1;33m:\u001b[0m\u001b[1;33m\u001b[0m\u001b[1;33m\u001b[0m\u001b[0m\n",
      "\u001b[1;32m~\\AppData\\Roaming\\Python\\Python37\\site-packages\\matplotlib\\axes\\_base.py\u001b[0m in \u001b[0;36m_plot_args\u001b[1;34m(self, tup, kwargs, return_kwargs)\u001b[0m\n\u001b[0;32m    496\u001b[0m \u001b[1;33m\u001b[0m\u001b[0m\n\u001b[0;32m    497\u001b[0m         \u001b[1;32mif\u001b[0m \u001b[0mx\u001b[0m\u001b[1;33m.\u001b[0m\u001b[0mshape\u001b[0m\u001b[1;33m[\u001b[0m\u001b[1;36m0\u001b[0m\u001b[1;33m]\u001b[0m \u001b[1;33m!=\u001b[0m \u001b[0my\u001b[0m\u001b[1;33m.\u001b[0m\u001b[0mshape\u001b[0m\u001b[1;33m[\u001b[0m\u001b[1;36m0\u001b[0m\u001b[1;33m]\u001b[0m\u001b[1;33m:\u001b[0m\u001b[1;33m\u001b[0m\u001b[1;33m\u001b[0m\u001b[0m\n\u001b[1;32m--> 498\u001b[1;33m             raise ValueError(f\"x and y must have same first dimension, but \"\n\u001b[0m\u001b[0;32m    499\u001b[0m                              f\"have shapes {x.shape} and {y.shape}\")\n\u001b[0;32m    500\u001b[0m         \u001b[1;32mif\u001b[0m \u001b[0mx\u001b[0m\u001b[1;33m.\u001b[0m\u001b[0mndim\u001b[0m \u001b[1;33m>\u001b[0m \u001b[1;36m2\u001b[0m \u001b[1;32mor\u001b[0m \u001b[0my\u001b[0m\u001b[1;33m.\u001b[0m\u001b[0mndim\u001b[0m \u001b[1;33m>\u001b[0m \u001b[1;36m2\u001b[0m\u001b[1;33m:\u001b[0m\u001b[1;33m\u001b[0m\u001b[1;33m\u001b[0m\u001b[0m\n",
      "\u001b[1;31mValueError\u001b[0m: x and y must have same first dimension, but have shapes (1001,) and (570,)"
     ]
    },
    {
     "data": {
      "image/png": "[encoded data removed]",
      "text/plain": [
       "<Figure size 640x480 with 1 Axes>"
      ]
     },
     "metadata": {},
     "output_type": "display_data"
    }
   ],
   "source": [
    "my_time = np.linspace(0, T_MAX_DIM, num_steps+1)\n",
    "\n",
    "plt.plot(my_time, energy_list, label=\"Energy\")\n",
    "plt.xlabel(\"Time\")\n",
    "plt.title(f\"dt = {time_step_dim}, total = {T_MAX_DIM}, {num_steps} steps\")\n",
    "plt.legend()\n",
    "plt.savefig(\"energy_graph.pdf\")\n",
    "print(energy_list[0])\n"
   ]
  },
  {
   "cell_type": "code",
   "execution_count": 44,
   "id": "8b7bdd9b",
   "metadata": {},
   "outputs": [
    {
     "ename": "NameError",
     "evalue": "name 'my_time' is not defined",
     "output_type": "error",
     "traceback": [
      "\u001b[1;31m---------------------------------------------------------------------------\u001b[0m",
      "\u001b[1;31mNameError\u001b[0m                                 Traceback (most recent call last)",
      "\u001b[1;32m~\\AppData\\Local\\Temp\\ipykernel_16768\\401251528.py\u001b[0m in \u001b[0;36m<module>\u001b[1;34m\u001b[0m\n\u001b[1;32m----> 1\u001b[1;33m \u001b[0mplt\u001b[0m\u001b[1;33m.\u001b[0m\u001b[0mplot\u001b[0m\u001b[1;33m(\u001b[0m\u001b[0mmy_time\u001b[0m\u001b[1;33m,\u001b[0m \u001b[0mkin_energy_list\u001b[0m\u001b[1;33m,\u001b[0m \u001b[0mlabel\u001b[0m\u001b[1;33m=\u001b[0m\u001b[1;34m\"Kin. Energy\"\u001b[0m\u001b[1;33m)\u001b[0m\u001b[1;33m\u001b[0m\u001b[1;33m\u001b[0m\u001b[0m\n\u001b[0m\u001b[0;32m      2\u001b[0m \u001b[0mplt\u001b[0m\u001b[1;33m.\u001b[0m\u001b[0mxlabel\u001b[0m\u001b[1;33m(\u001b[0m\u001b[1;34m\"Time\"\u001b[0m\u001b[1;33m)\u001b[0m\u001b[1;33m\u001b[0m\u001b[1;33m\u001b[0m\u001b[0m\n\u001b[0;32m      3\u001b[0m \u001b[0mplt\u001b[0m\u001b[1;33m.\u001b[0m\u001b[0mtitle\u001b[0m\u001b[1;33m(\u001b[0m\u001b[1;34mf\"dt = {time_step_dim}, total = {T_MAX_DIM}, {num_steps} steps\"\u001b[0m\u001b[1;33m)\u001b[0m\u001b[1;33m\u001b[0m\u001b[1;33m\u001b[0m\u001b[0m\n\u001b[0;32m      4\u001b[0m \u001b[0mplt\u001b[0m\u001b[1;33m.\u001b[0m\u001b[0mlegend\u001b[0m\u001b[1;33m(\u001b[0m\u001b[1;33m)\u001b[0m\u001b[1;33m\u001b[0m\u001b[1;33m\u001b[0m\u001b[0m\n\u001b[0;32m      5\u001b[0m \u001b[0mplt\u001b[0m\u001b[1;33m.\u001b[0m\u001b[0msavefig\u001b[0m\u001b[1;33m(\u001b[0m\u001b[1;34m\"kinetic_graph.pdf\"\u001b[0m\u001b[1;33m)\u001b[0m\u001b[1;33m\u001b[0m\u001b[1;33m\u001b[0m\u001b[0m\n",
      "\u001b[1;31mNameError\u001b[0m: name 'my_time' is not defined"
     ]
    }
   ],
   "source": [
    "\n",
    "plt.plot(my_time, kin_energy_list, label=\"Kin. Energy\")\n",
    "plt.xlabel(\"Time\")\n",
    "plt.title(f\"dt = {time_step_dim}, total = {T_MAX_DIM}, {num_steps} steps\")\n",
    "plt.legend()\n",
    "plt.savefig(\"kinetic_graph.pdf\")"
   ]
  },
  {
   "cell_type": "code",
   "execution_count": null,
   "id": "add19af3",
   "metadata": {},
   "outputs": [],
   "source": [
    "plt.plot(my_time, integral_list, label=r\"$\\int |\\mathbf{m}|^2 \\mathrm{d}x$\")\n",
    "plt.plot(my_time, nodal_sum_list, label=r\"$\\sum |\\mathbf{m}(z_k)|^2$\")\n",
    "plt.xlabel(r\"time\")\n",
    "plt.legend()\n",
    "plt.savefig(\"integral_graph.pdf\")"
   ]
  },
  {
   "cell_type": "code",
   "execution_count": null,
   "id": "5ac59a0b",
   "metadata": {},
   "outputs": [],
   "source": [
    "print(integral_list)"
   ]
  }
 ],
 "metadata": {
  "kernelspec": {
   "display_name": "Python 3",
   "language": "python",
   "name": "python3"
  },
  "language_info": {
   "codemirror_mode": {
    "name": "ipython",
    "version": 3
   },
   "file_extension": ".py",
   "mimetype": "text/x-python",
   "name": "python",
   "nbconvert_exporter": "python",
   "pygments_lexer": "ipython3",
   "version": "3.7.9"
  },
  "vscode": {
   "interpreter": {
    "hash": "5109d816b82be14675a6b11f8e0f0d2e80f029176ed3710d54e125caa8520dfd"
   }
  }
 },
 "nbformat": 4,
 "nbformat_minor": 5
}
