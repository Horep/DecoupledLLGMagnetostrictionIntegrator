{
 "cells": [
  {
   "attachments": {},
   "cell_type": "markdown",
   "id": "da07342f",
   "metadata": {},
   "source": [
    "We import `netgen.gui` to open the netgen GUI for displaying the ferromagnet. \n",
    "We then define the geometry, and draw the box. \n",
    "The refinement of the mesh is controlled by `H_MAX` in `ngmesh`."
   ]
  },
  {
   "cell_type": "code",
   "execution_count": null,
   "id": "d81bbe92",
   "metadata": {},
   "outputs": [],
   "source": [
    "from netgen.csg import *\n",
    "from ngsolve import *\n",
    "from ngsolve.utils import (\n",
    "    Grad\n",
    ")  # If I don't import these explicitly, VSCode reads them as missing.\n",
    "import netgen.gui  # this opens up the netgen ui\n",
    "import Magnetisation_Functions as magfunc\n",
    "import Elastic_Functions as elfunc\n",
    "import General_Functions as genfunc\n",
    "import numpy as np\n",
    "import scipy.sparse as sp\n",
    "import time\n",
    "T_MAX: float = 10  # The maximum time for the simulation\n",
    "ALPHA: float = 5  # Dissipative constant in the LLG equation.\n",
    "THETA: float = 0.505  # Should be strictly above 1/2 for unconditional stability\n",
    "K: float = 0.005  # TIME STEP\n",
    "KAPPA: float = 1.0  # Determines the relative strength of the elastic vs. magnetic parts.\n",
    "mu: float = 1  # first lame constant\n",
    "lam: float = 1  # second lame constant\n",
    "lambda_m: float = 1  # saturation magnetostrain parameter\n",
    "H_MAX: float = 0.1  # Determines how fine the mesh should be."
   ]
  },
  {
   "cell_type": "code",
   "execution_count": null,
   "id": "4fffb481",
   "metadata": {},
   "outputs": [],
   "source": [
    "def MakeGeometry():  # this makes a box, with labelled faces\n",
    "    geometry = CSGeometry()\n",
    "    left = Plane(Pnt(0, 0, 0), Vec(-1, 0, 0)).bc(\"left\")\n",
    "    right = Plane(Pnt(1, 1, 1), Vec(1, 0, 0)).bc(\"right\")\n",
    "    front = Plane(Pnt(0, 0, 0), Vec(0, -1, 0)).bc(\"front\")\n",
    "    back = Plane(Pnt(1, 1, 1), Vec(0, 1, 0)).bc(\"back\")\n",
    "    bot = Plane(Pnt(0, 0, 0), Vec(0, 0, -1)).bc(\"bot\")\n",
    "    top = Plane(Pnt(1, 1, 1), Vec(0, 0, 1)).bc(\"top\")\n",
    "\n",
    "    cube = left * right * front * back * bot * top\n",
    "    geometry.Add(cube)\n",
    "    # cube = OrthoBrick(Pnt(0,0,0), Pnt(1,1,1))\n",
    "    geometry.Add(cube)\n",
    "    return geometry\n",
    "\n",
    "\n",
    "ngmesh = MakeGeometry().GenerateMesh(maxh=H_MAX)\n",
    "# ngmesh.Save(\"cube.vol\")\n",
    "mesh = Mesh(ngmesh)\n",
    "Draw(mesh)"
   ]
  },
  {
   "cell_type": "code",
   "execution_count": null,
   "id": "0645f180",
   "metadata": {},
   "outputs": [],
   "source": [
    "fes_mag = VectorH1(\n",
    "    mesh, order=1\n",
    ")  # the finite element space for the magnetisation m_h^i\n",
    "fes_eps_m = MatrixValued(\n",
    "    H1(mesh, order=1), dim=3\n",
    ")  # matrix FE space on the magnetic part\n",
    "fes_disp = VectorH1(\n",
    "    mesh, order=1, dirichlet=\"bot\"\n",
    ")  # the finite element space for the displacement u_h^i\n",
    "\n",
    "# print(f\"mag_ndof={fes_mag.ndof}, disp_ndof={fes_disp.ndof},\\n, dispfree_ndof={fes_disp.FreeDofs()}\")\n",
    "mag_gfu = GridFunction(fes_mag)\n",
    "disp_gfu = GridFunction(fes_disp)\n",
    "prev_disp_gfu = GridFunction(fes_disp) #  used to store the previous displacement\n",
    "# body force and traction force\n",
    "body_factor = Parameter(-1.0)\n",
    "f_body = CoefficientFunction((0.0, 0.0, body_factor))\n",
    "surface_factor = Parameter(1)\n",
    "g_surface = CoefficientFunction([(0,0,surface_factor) if bc==\"left\" else 0 for bc in mesh.GetBoundaries()])"
   ]
  },
  {
   "cell_type": "code",
   "execution_count": null,
   "id": "772fe9aa",
   "metadata": {},
   "outputs": [],
   "source": [
    "Draw(g_surface, mesh, \"surface\")\n",
    "Draw(f_body, mesh, \"body\")"
   ]
  },
  {
   "cell_type": "code",
   "execution_count": null,
   "id": "32f4ee56",
   "metadata": {},
   "outputs": [],
   "source": [
    "# Initial conditions\n",
    "mag_gfu = magfunc.give_uniform_magnetisation(mag_gfu, (1,1,1))\n",
    "#disp_gfu = elfunc.give_random_displacement(disp_gfu)\n",
    "disp_gfu = elfunc.give_uniform_displacement(disp_gfu, (0,0,0))\n",
    "velocity_gfu = GridFunction(fes_disp)  # velocity\n",
    "velocity_gfu = elfunc.give_uniform_displacement(velocity_gfu, (0,0,0))  # An initial velocity. Should only be used once in iteration.\n",
    "Draw(mag_gfu, mesh, \"magnetisation\")\n",
    "Draw(disp_gfu, mesh, \"displacement\")\n",
    "magfunc.magnetic_energy(mag_gfu, mesh)"
   ]
  },
  {
   "cell_type": "code",
   "execution_count": null,
   "id": "388bfa79",
   "metadata": {},
   "outputs": [],
   "source": [
    "genfunc.export_to_vtk_file(disp_gfu, mag_gfu, mesh, export=True, index=0)"
   ]
  },
  {
   "cell_type": "code",
   "execution_count": null,
   "id": "b0fd9057",
   "metadata": {},
   "outputs": [],
   "source": [
    "num_steps = genfunc.ceiling_division(T_MAX, K)  # This is ceiling division, using upside-down floor division.\n",
    "#first run\n",
    "\n",
    "mag_gfu = magfunc.update_magnetisation(fes_mag, mag_gfu, ALPHA, THETA, K, KAPPA, disp_gfu, mu, lam, lambda_m)\n",
    "\n",
    "proj_mag = magfunc.nodal_projection(mag_gfu, fes_mag)\n",
    "strain_m = magfunc.build_strain_m(proj_mag, lambda_m)\n",
    "new_disp = elfunc.FIRST_RUN_update_displacement(fes_disp, disp_gfu, velocity_gfu, strain_m, f_body, g_surface, K, mu, lam)\n",
    "prev_disp_gfu.vec.data = disp_gfu.vec.data\n",
    "disp_gfu.vec.data = new_disp.vec.data"
   ]
  },
  {
   "cell_type": "code",
   "execution_count": null,
   "id": "2632fdb8",
   "metadata": {},
   "outputs": [],
   "source": [
    "mip = mesh(0.1, 0.5, 0)\n",
    "print(strain_m(mip))"
   ]
  },
  {
   "cell_type": "code",
   "execution_count": null,
   "id": "44b4bd65",
   "metadata": {},
   "outputs": [],
   "source": [
    "# subsequence runs\n",
    "for i in range(1,num_steps):\n",
    "    mag_gfu = magfunc.update_magnetisation(fes_mag, mag_gfu, ALPHA, THETA, K, KAPPA, disp_gfu, mu, lam, lambda_m)\n",
    "    proj_mag = magfunc.nodal_projection(mag_gfu, fes_mag)\n",
    "    strain_m = magfunc.build_strain_m(proj_mag, lambda_m)\n",
    "    new_disp = elfunc.update_displacement(fes_disp, disp_gfu, prev_disp_gfu, strain_m, f_body, g_surface, K, mu, lam)\n",
    "    prev_disp_gfu.vec.data = disp_gfu.vec.data\n",
    "    disp_gfu.vec.data = new_disp.vec.data\n",
    "    Redraw()\n",
    "    print(f\"Step {i}:integral |m*m|dx = {Integrate(mag_gfu*mag_gfu, mesh, VOL)} (should be 1)\\n\\\n",
    "        energy      = {magfunc.magnetic_energy(mag_gfu, mesh) + elfunc.elastic_energy(mesh, disp_gfu, strain_m, f_body, g_surface, KAPPA, mu, lam)}\")\n",
    "    genfunc.export_to_vtk_file(disp_gfu, mag_gfu, mesh, export=True, index=i)"
   ]
  },
  {
   "cell_type": "code",
   "execution_count": null,
   "id": "fe071adc",
   "metadata": {},
   "outputs": [],
   "source": []
  }
 ],
 "metadata": {
  "kernelspec": {
   "display_name": "Python 3",
   "language": "python",
   "name": "python3"
  },
  "language_info": {
   "codemirror_mode": {
    "name": "ipython",
    "version": 3
   },
   "file_extension": ".py",
   "mimetype": "text/x-python",
   "name": "python",
   "nbconvert_exporter": "python",
   "pygments_lexer": "ipython3",
   "version": "3.7.9"
  },
  "vscode": {
   "interpreter": {
    "hash": "5109d816b82be14675a6b11f8e0f0d2e80f029176ed3710d54e125caa8520dfd"
   }
  }
 },
 "nbformat": 4,
 "nbformat_minor": 5
}
