{
 "cells": [
  {
   "attachments": {},
   "cell_type": "markdown",
   "id": "da07342f",
   "metadata": {},
   "source": [
    "We import `netgen.gui` to open the netgen GUI for displaying the ferromagnet. \n",
    "We then define the geometry, and draw the box. \n",
    "The refinement of the mesh is controlled by `H_MAX` in `ngmesh`."
   ]
  },
  {
   "cell_type": "markdown",
   "id": "5ed135ae",
   "metadata": {},
   "source": []
  },
  {
   "cell_type": "code",
   "execution_count": null,
   "id": "d81bbe92",
   "metadata": {},
   "outputs": [],
   "source": [
    "from netgen.csg import *\n",
    "from ngsolve import *\n",
    "from ngsolve.utils import grad, Grad  # If I don't import these explicitly, VSCode reads them as missing.\n",
    "import netgen.gui  # this opens up the netgen ui\n",
    "import Magnetisation_Functions\n",
    "T_MAX = 10.0  # The maximum time for the simulation\n",
    "ALPHA = 1  # Dissipative constant in the LLG equation.\n",
    "THETA = 0.75 # Should be strictly above 1/2 for unconditional stability\n",
    "K = 0.1  # TIME STEP\n",
    "KAPPA = 1  # Determines the relative strength of the elastic vs. magnetic parts.\n",
    "H_MAX = 1  # Determines how fine the mesh should be."
   ]
  },
  {
   "cell_type": "code",
   "execution_count": null,
   "id": "4fffb481",
   "metadata": {},
   "outputs": [],
   "source": [
    "def MakeGeometry():  # this makes a box, with labelled faces\n",
    "    geometry = CSGeometry()\n",
    "    left  = Plane(Pnt(0,0,0), Vec(-1,0,0)).bc(\"left\")\n",
    "    right = Plane(Pnt(1,1,1), Vec( 1,0,0)).bc(\"right\")\n",
    "    front = Plane(Pnt(0,0,0), Vec(0,-1,0)).bc(\"front\")\n",
    "    back  = Plane(Pnt(1,1,1), Vec(0, 1,0)).bc(\"back\")\n",
    "    bot   = Plane(Pnt(0,0,0), Vec(0,0,-1)).bc(\"bot\")\n",
    "    top   = Plane(Pnt(1,1,1), Vec(0,0, 1)).bc(\"top\")\n",
    "\n",
    "    cube = left * right * front * back * bot * top\n",
    "    geometry.Add (cube)\n",
    "    #cube = OrthoBrick(Pnt(0,0,0), Pnt(1,1,1))\n",
    "    geometry.Add(cube)\n",
    "    return geometry\n",
    "\n",
    "\n",
    "\n",
    "ngmesh = MakeGeometry().GenerateMesh(maxh=H_MAX)\n",
    "# ngmesh.Save(\"cube.vol\")\n",
    "mesh = Mesh(ngmesh)\n",
    "Draw(mesh)"
   ]
  },
  {
   "cell_type": "code",
   "execution_count": null,
   "id": "1469ace3",
   "metadata": {},
   "outputs": [],
   "source": [
    "  # this helps me figure out which sides are which.\n",
    "#fes_SCALAR = H1(mesh, order=1)\n",
    "#myScalars = {\"left\":10, \"right\":10, \"front\":0, \"back\":0, \"bot\":5, \"top\":5}\n",
    "#SCALAR_gfu = CoefficientFunction([myScalars[val] for val in mesh.GetBoundaries()])\n",
    "\n",
    "#Draw(SCALAR_gfu, mesh, \"SCALAR_gfu\")"
   ]
  },
  {
   "cell_type": "code",
   "execution_count": null,
   "id": "0645f180",
   "metadata": {},
   "outputs": [],
   "source": [
    "fes_mag = VectorH1(mesh, order=1)  # the finite element space for the magnetisation m_h^i\n",
    "fes_disp = VectorH1(mesh, order=1, dirichlet=\"bot\")  # the finite element space for the displacement u_h^i\n",
    "\n",
    "print(f\"mag_ndof={fes_mag.ndof}, disp_ndof={fes_disp.ndof},\\n, dispfree_ndof={fes_disp.FreeDofs()}\")\n",
    "mag_gfu = GridFunction(fes_mag)\n",
    "disp_gfu = GridFunction(fes_disp)"
   ]
  },
  {
   "cell_type": "code",
   "execution_count": null,
   "id": "44b4bd65",
   "metadata": {},
   "outputs": [],
   "source": [
    "v = fes_mag.TrialFunction()\n",
    "phi = fes_mag.TestFunction()\n",
    "u = fes_disp.TrialFunction()\n",
    "psi = fes_disp.TestFunction()\n",
    "\n",
    "mag_gfu = Magnetisation_Functions.give_random_magnetisation(mag_gfu)\n",
    "\n",
    "a_mag = BilinearForm(fes_mag)\n",
    "a_mag += ALPHA*InnerProduct(v, phi)*dx\n",
    "a_mag += THETA*K*InnerProduct(Grad(v), Grad(phi))*dx\n",
    "a_mag += InnerProduct(Cross(mag_gfu,v), phi)*dx\n",
    "a_mag.Assemble()\n",
    "\n",
    "f_mag = LinearForm(fes_mag)\n",
    "f_mag += -InnerProduct(Grad(mag_gfu), Grad(phi))*dx\n",
    "#f_mag +=  # This is where we will put the magnetostrictive contribution.\n",
    "f_mag.Assemble()\n"
   ]
  },
  {
   "cell_type": "code",
   "execution_count": null,
   "id": "09781f90",
   "metadata": {},
   "outputs": [],
   "source": [
    "B_T = Magnetisation_Functions.build_tangent_plane_matrix_transpose(mag_gfu)\n",
    "\n",
    "Mag_Block = BlockMatrix([a_mag.mat, B_T.data],[B_T.data.T,None])"
   ]
  },
  {
   "cell_type": "code",
   "execution_count": null,
   "id": "3fa5e9e3",
   "metadata": {},
   "outputs": [],
   "source": [
    "#print(mag_gfu.vec)\n",
    "Draw(mag_gfu)\n",
    "print(Magnetisation_Functions.build_tangent_plane_matrix_transpose(mag_gfu))\n"
   ]
  }
 ],
 "metadata": {
  "kernelspec": {
   "display_name": "Python 3",
   "language": "python",
   "name": "python3"
  },
  "language_info": {
   "codemirror_mode": {
    "name": "ipython",
    "version": 3
   },
   "file_extension": ".py",
   "mimetype": "text/x-python",
   "name": "python",
   "nbconvert_exporter": "python",
   "pygments_lexer": "ipython3",
   "version": "3.7.9"
  },
  "vscode": {
   "interpreter": {
    "hash": "5109d816b82be14675a6b11f8e0f0d2e80f029176ed3710d54e125caa8520dfd"
   }
  }
 },
 "nbformat": 4,
 "nbformat_minor": 5
}
