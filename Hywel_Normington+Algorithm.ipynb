{
 "cells": [
  {
   "attachments": {},
   "cell_type": "markdown",
   "id": "da07342f",
   "metadata": {},
   "source": [
    "We import `netgen.gui` to open the netgen GUI for displaying the ferromagnet. \n",
    "We then define the geometry, and draw the box. \n",
    "The refinement of the mesh is controlled by `H_MAX` in `ngmesh`."
   ]
  },
  {
   "cell_type": "markdown",
   "id": "5ed135ae",
   "metadata": {},
   "source": []
  },
  {
   "cell_type": "code",
   "execution_count": 8,
   "id": "d81bbe92",
   "metadata": {},
   "outputs": [],
   "source": [
    "from netgen.csg import *\n",
    "from ngsolve import *\n",
    "from ngsolve.utils import grad, Grad  # If I don't import these explicitly, VSCode reads them as missing.\n",
    "import netgen.gui  # this opens up the netgen ui\n",
    "import Magnetisation_Functions as magfunc\n",
    "import Elastic_Functions as elfunc\n",
    "import numpy as np\n",
    "import scipy.sparse as sp\n",
    "T_MAX = 10.0  # The maximum time for the simulation\n",
    "ALPHA = 1  # Dissipative constant in the LLG equation.\n",
    "THETA = 0.75 # Should be strictly above 1/2 for unconditional stability\n",
    "K = 0.1  # TIME STEP\n",
    "KAPPA = 1  # Determines the relative strength of the elastic vs. magnetic parts.\n",
    "H_MAX = 1  # Determines how fine the mesh should be."
   ]
  },
  {
   "cell_type": "code",
   "execution_count": 9,
   "id": "4fffb481",
   "metadata": {},
   "outputs": [],
   "source": [
    "def MakeGeometry():  # this makes a box, with labelled faces\n",
    "    geometry = CSGeometry()\n",
    "    left  = Plane(Pnt(0,0,0), Vec(-1,0,0)).bc(\"left\")\n",
    "    right = Plane(Pnt(1,1,1), Vec( 1,0,0)).bc(\"right\")\n",
    "    front = Plane(Pnt(0,0,0), Vec(0,-1,0)).bc(\"front\")\n",
    "    back  = Plane(Pnt(1,1,1), Vec(0, 1,0)).bc(\"back\")\n",
    "    bot   = Plane(Pnt(0,0,0), Vec(0,0,-1)).bc(\"bot\")\n",
    "    top   = Plane(Pnt(1,1,1), Vec(0,0, 1)).bc(\"top\")\n",
    "\n",
    "    cube = left * right * front * back * bot * top\n",
    "    geometry.Add (cube)\n",
    "    #cube = OrthoBrick(Pnt(0,0,0), Pnt(1,1,1))\n",
    "    geometry.Add(cube)\n",
    "    return geometry\n",
    "\n",
    "\n",
    "\n",
    "ngmesh = MakeGeometry().GenerateMesh(maxh=H_MAX)\n",
    "# ngmesh.Save(\"cube.vol\")\n",
    "mesh = Mesh(ngmesh)\n",
    "Draw(mesh)"
   ]
  },
  {
   "cell_type": "code",
   "execution_count": 10,
   "id": "1469ace3",
   "metadata": {},
   "outputs": [],
   "source": [
    "  # this helps me figure out which sides are which.\n",
    "#fes_SCALAR = H1(mesh, order=1)\n",
    "#myScalars = {\"left\":10, \"right\":10, \"front\":0, \"back\":0, \"bot\":5, \"top\":5}\n",
    "#SCALAR_gfu = CoefficientFunction([myScalars[val] for val in mesh.GetBoundaries()])\n",
    "\n",
    "#Draw(SCALAR_gfu, mesh, \"SCALAR_gfu\")"
   ]
  },
  {
   "cell_type": "code",
   "execution_count": 11,
   "id": "0645f180",
   "metadata": {},
   "outputs": [
    {
     "name": "stdout",
     "output_type": "stream",
     "text": [
      "mag_ndof=27, disp_ndof=27,\n",
      ", dispfree_ndof=0: 010011011010011011010011011\n"
     ]
    }
   ],
   "source": [
    "fes_mag = VectorH1(mesh, order=1)  # the finite element space for the magnetisation m_h^i\n",
    "fes_disp = VectorH1(mesh, order=1, dirichlet=\"bot\")  # the finite element space for the displacement u_h^i\n",
    "\n",
    "print(f\"mag_ndof={fes_mag.ndof}, disp_ndof={fes_disp.ndof},\\n, dispfree_ndof={fes_disp.FreeDofs()}\")\n",
    "mag_gfu = GridFunction(fes_mag)\n",
    "disp_gfu = GridFunction(fes_disp)"
   ]
  },
  {
   "cell_type": "code",
   "execution_count": 12,
   "id": "44b4bd65",
   "metadata": {},
   "outputs": [
    {
     "data": {
      "text/plain": [
       "<ngsolve.comp.LinearForm at 0x1a429e64130>"
      ]
     },
     "execution_count": 12,
     "metadata": {},
     "output_type": "execute_result"
    }
   ],
   "source": [
    "v = fes_mag.TrialFunction()\n",
    "phi = fes_mag.TestFunction()\n",
    "u = fes_disp.TrialFunction()\n",
    "psi = fes_disp.TestFunction()\n",
    "\n",
    "mag_gfu = magfunc.give_random_magnetisation(mag_gfu)\n",
    "\n",
    "a_mag = BilinearForm(fes_mag)\n",
    "a_mag += ALPHA*InnerProduct(v, phi)*dx\n",
    "a_mag += THETA*K*InnerProduct(Grad(v), Grad(phi))*dx\n",
    "a_mag += InnerProduct(Cross(mag_gfu,v), phi)*dx\n",
    "a_mag.Assemble()\n",
    "\n",
    "f_mag = LinearForm(fes_mag)\n",
    "f_mag += -InnerProduct(Grad(mag_gfu), Grad(phi))*dx\n",
    "#f_mag +=  # This is where we will put the magnetostrictive contribution.\n",
    "f_mag.Assemble()\n",
    "\n",
    "a_disp = BilinearForm(fes_disp)\n",
    "a_disp += InnerProduct(u, psi)*dx\n",
    "a_disp += InnerProduct(elfunc.stress)*dx"
   ]
  },
  {
   "cell_type": "code",
   "execution_count": 15,
   "id": "f1e766a9",
   "metadata": {},
   "outputs": [
    {
     "data": {
      "text/plain": [
       "(ngsolve.comp.BilinearForm, ngsolve.bla.MatrixD, ngsolve.comp.LinearForm)"
      ]
     },
     "execution_count": 15,
     "metadata": {},
     "output_type": "execute_result"
    }
   ],
   "source": [
    "B_T = magfunc.build_tangent_plane_matrix_transpose(mag_gfu)\n",
    "type(a_mag), type(B_T), type(f_mag)"
   ]
  },
  {
   "cell_type": "code",
   "execution_count": 13,
   "id": "09781f90",
   "metadata": {},
   "outputs": [
    {
     "name": "stdout",
     "output_type": "stream",
     "text": [
      "[-0.33187282 -0.01700777 -0.69531442  0.15584503 -0.01050842 -0.85927957\n",
      " -0.45900901 -0.48776918  2.70491617 -0.94726553 -0.86653848 -0.47129851\n",
      " -0.47533919  0.14280275 -0.09125148 -0.75157839 -0.30934734  3.76981617\n",
      "  0.01275178  0.06971     0.67224149  0.33809674  0.8316015   0.2569797\n",
      " -0.1357197  -0.33507428 -1.71058723  0.          0.          0.\n",
      "  0.          0.          0.          0.          0.          0.        ]\n"
     ]
    }
   ],
   "source": [
    "with np.printoptions(threshold=np.inf):\n",
    "    print(magfunc.give_magnetisation_update(a_mag, B_T, f_mag))"
   ]
  },
  {
   "cell_type": "code",
   "execution_count": 14,
   "id": "3fa5e9e3",
   "metadata": {},
   "outputs": [],
   "source": [
    "#print(mag_gfu.vec)\n",
    "#Draw(mag_gfu)\n",
    "#print(magfunc.build_tangent_plane_matrix_transpose(mag_gfu))\n"
   ]
  }
 ],
 "metadata": {
  "kernelspec": {
   "display_name": "Python 3",
   "language": "python",
   "name": "python3"
  },
  "language_info": {
   "codemirror_mode": {
    "name": "ipython",
    "version": 3
   },
   "file_extension": ".py",
   "mimetype": "text/x-python",
   "name": "python",
   "nbconvert_exporter": "python",
   "pygments_lexer": "ipython3",
   "version": "3.7.9"
  },
  "vscode": {
   "interpreter": {
    "hash": "5109d816b82be14675a6b11f8e0f0d2e80f029176ed3710d54e125caa8520dfd"
   }
  }
 },
 "nbformat": 4,
 "nbformat_minor": 5
}
