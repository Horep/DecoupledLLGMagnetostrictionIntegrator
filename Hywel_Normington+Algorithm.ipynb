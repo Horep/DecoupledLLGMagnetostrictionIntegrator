{
 "cells": [
  {
   "attachments": {},
   "cell_type": "markdown",
   "id": "da07342f",
   "metadata": {},
   "source": [
    "We import `netgen.gui` to open the netgen GUI for displaying the ferromagnet. \n",
    "We then define the geometry, and draw the box. \n",
    "The refinement of the mesh is controlled by `H_MAX` in `ngmesh`."
   ]
  },
  {
   "cell_type": "code",
   "execution_count": 1,
   "id": "d81bbe92",
   "metadata": {},
   "outputs": [],
   "source": [
    "from netgen.csg import *\n",
    "from ngsolve import *\n",
    "from ngsolve.utils import (\n",
    "    Grad,\n",
    ")  # If I don't import these explicitly, VSCode reads them as missing.\n",
    "import netgen.gui  # this opens up the netgen ui\n",
    "import Magnetisation_Functions as magfunc\n",
    "import Elastic_Functions as elfunc\n",
    "import General_Functions as genfunc\n",
    "import numpy as np\n",
    "import scipy.sparse as sp\n",
    "import time\n",
    "T_MAX: float = 10.0  # The maximum time for the simulation\n",
    "ALPHA: float = 1.0  # Dissipative constant in the LLG equation.\n",
    "THETA: float = 0.75  # Should be strictly above 1/2 for unconditional stability\n",
    "K: float = 0.1  # TIME STEP\n",
    "KAPPA: float = 1.0  # Determines the relative strength of the elastic vs. magnetic parts.\n",
    "H_MAX: float = 0.1  # Determines how fine the mesh should be."
   ]
  },
  {
   "cell_type": "code",
   "execution_count": 2,
   "id": "4fffb481",
   "metadata": {},
   "outputs": [],
   "source": [
    "def MakeGeometry():  # this makes a box, with labelled faces\n",
    "    geometry = CSGeometry()\n",
    "    left = Plane(Pnt(0, 0, 0), Vec(-1, 0, 0)).bc(\"left\")\n",
    "    right = Plane(Pnt(1, 1, 1), Vec(1, 0, 0)).bc(\"right\")\n",
    "    front = Plane(Pnt(0, 0, 0), Vec(0, -1, 0)).bc(\"front\")\n",
    "    back = Plane(Pnt(1, 1, 1), Vec(0, 1, 0)).bc(\"back\")\n",
    "    bot = Plane(Pnt(0, 0, 0), Vec(0, 0, -1)).bc(\"bot\")\n",
    "    top = Plane(Pnt(1, 1, 1), Vec(0, 0, 1)).bc(\"top\")\n",
    "\n",
    "    cube = left * right * front * back * bot * top\n",
    "    geometry.Add(cube)\n",
    "    # cube = OrthoBrick(Pnt(0,0,0), Pnt(1,1,1))\n",
    "    geometry.Add(cube)\n",
    "    return geometry\n",
    "\n",
    "\n",
    "ngmesh = MakeGeometry().GenerateMesh(maxh=H_MAX)\n",
    "# ngmesh.Save(\"cube.vol\")\n",
    "mesh = Mesh(ngmesh)\n",
    "Draw(mesh)"
   ]
  },
  {
   "cell_type": "code",
   "execution_count": 3,
   "id": "1469ace3",
   "metadata": {},
   "outputs": [],
   "source": [
    "# this helps me figure out which sides are which.\n",
    "# fes_SCALAR = H1(mesh, order=1)\n",
    "# myScalars = {\"left\":10, \"right\":10, \"front\":0, \"back\":0, \"bot\":5, \"top\":5}\n",
    "# SCALAR_gfu = CoefficientFunction([myScalars[val] for val in mesh.GetBoundaries()])\n",
    "# Draw(SCALAR_gfu, mesh, \"SCALAR_gfu\")"
   ]
  },
  {
   "cell_type": "code",
   "execution_count": 4,
   "id": "0645f180",
   "metadata": {},
   "outputs": [],
   "source": [
    "fes_mag = VectorH1(\n",
    "    mesh, order=1\n",
    ")  # the finite element space for the magnetisation m_h^i\n",
    "fes_eps_m = MatrixValued(\n",
    "    H1(mesh, order=1), dim=3\n",
    ")  # matrix FE space on the magnetic part\n",
    "fes_disp = VectorH1(\n",
    "    mesh, order=1, dirichlet=\"bot\"\n",
    ")  # the finite element space for the displacement u_h^i\n",
    "\n",
    "# print(f\"mag_ndof={fes_mag.ndof}, disp_ndof={fes_disp.ndof},\\n, dispfree_ndof={fes_disp.FreeDofs()}\")\n",
    "mag_gfu = GridFunction(fes_mag)\n",
    "disp_gfu = GridFunction(fes_disp)\n",
    "# body force and traction force\n",
    "\n",
    "# f_body = CoefficientFunction((0,0,-1))\n",
    "# g_surface = CoefficientFunction([-1 if bc==\"left\" else 0 for bc in mesh.GetBoundaries()])"
   ]
  },
  {
   "cell_type": "code",
   "execution_count": 5,
   "id": "32f4ee56",
   "metadata": {},
   "outputs": [],
   "source": [
    "# Initial conditions\n",
    "mag_gfu = magfunc.give_random_magnetisation(mag_gfu)\n",
    "disp_gfu = elfunc.give_random_displacement(disp_gfu)\n",
    "velocity_gfu = elfunc.give_random_displacement(disp_gfu)  # An initial velocity. Should only be used once in iteration.\n",
    "Draw(mag_gfu)"
   ]
  },
  {
   "cell_type": "code",
   "execution_count": 6,
   "id": "44b4bd65",
   "metadata": {},
   "outputs": [
    {
     "name": "stdout",
     "output_type": "stream",
     "text": [
      "Step 0:\n",
      "          integral |m*m|dx = 0.5870400204585894\n",
      "Step 1:\n",
      "          integral |m*m|dx = 0.8602969638086267\n",
      "Step 2:\n",
      "          integral |m*m|dx = 1.1535845229537598\n",
      "Step 3:\n",
      "          integral |m*m|dx = 1.391805890661054\n",
      "Step 4:\n",
      "          integral |m*m|dx = 1.5629110890382616\n",
      "Step 5:\n",
      "          integral |m*m|dx = 1.6730601877217113\n",
      "Step 6:\n",
      "          integral |m*m|dx = 1.7436061219182182\n",
      "Step 7:\n",
      "          integral |m*m|dx = 1.7944300906801594\n",
      "Step 8:\n",
      "          integral |m*m|dx = 1.8359590449513352\n",
      "Step 9:\n",
      "          integral |m*m|dx = 1.8696879371998143\n",
      "Step 10:\n",
      "          integral |m*m|dx = 1.8969097032621027\n",
      "Step 11:\n",
      "          integral |m*m|dx = 1.9190979020009382\n",
      "Step 12:\n",
      "          integral |m*m|dx = 1.9378779834438824\n",
      "Step 13:\n",
      "          integral |m*m|dx = 1.9549611014403117\n",
      "Step 14:\n",
      "          integral |m*m|dx = 1.9707913023852264\n",
      "Step 15:\n",
      "          integral |m*m|dx = 1.984954471789398\n",
      "Step 16:\n",
      "          integral |m*m|dx = 1.9980169782554056\n",
      "Step 17:\n",
      "          integral |m*m|dx = 2.010938598999103\n",
      "Step 18:\n",
      "          integral |m*m|dx = 2.022952042455405\n",
      "Step 19:\n",
      "          integral |m*m|dx = 2.032803156478459\n",
      "Step 20:\n",
      "          integral |m*m|dx = 2.0410440039160656\n",
      "Step 21:\n",
      "          integral |m*m|dx = 2.0483000276346344\n",
      "Step 22:\n",
      "          integral |m*m|dx = 2.0549622096113653\n",
      "Step 23:\n",
      "          integral |m*m|dx = 2.0613158732715733\n",
      "Step 24:\n",
      "          integral |m*m|dx = 2.0676053304571824\n",
      "Step 25:\n",
      "          integral |m*m|dx = 2.0740231713522133\n",
      "Step 26:\n",
      "          integral |m*m|dx = 2.0806022257854067\n",
      "Step 27:\n",
      "          integral |m*m|dx = 2.087134524288486\n"
     ]
    },
    {
     "ename": "KeyboardInterrupt",
     "evalue": "",
     "output_type": "error",
     "traceback": [
      "\u001b[1;31m---------------------------------------------------------------------------\u001b[0m",
      "\u001b[1;31mKeyboardInterrupt\u001b[0m                         Traceback (most recent call last)",
      "\u001b[1;32m~\\AppData\\Local\\Temp\\ipykernel_10712\\359550965.py\u001b[0m in \u001b[0;36m<module>\u001b[1;34m\u001b[0m\n\u001b[0;32m      1\u001b[0m \u001b[0mnum_steps\u001b[0m \u001b[1;33m=\u001b[0m \u001b[0mgenfunc\u001b[0m\u001b[1;33m.\u001b[0m\u001b[0mceiling_division\u001b[0m\u001b[1;33m(\u001b[0m\u001b[0mT_MAX\u001b[0m\u001b[1;33m,\u001b[0m \u001b[0mK\u001b[0m\u001b[1;33m)\u001b[0m  \u001b[1;31m# This is ceiling division, using upside-down floor division.\u001b[0m\u001b[1;33m\u001b[0m\u001b[1;33m\u001b[0m\u001b[0m\n\u001b[0;32m      2\u001b[0m \u001b[1;32mfor\u001b[0m \u001b[0mi\u001b[0m \u001b[1;32min\u001b[0m \u001b[0mrange\u001b[0m\u001b[1;33m(\u001b[0m\u001b[0mnum_steps\u001b[0m\u001b[1;33m)\u001b[0m\u001b[1;33m:\u001b[0m\u001b[1;33m\u001b[0m\u001b[1;33m\u001b[0m\u001b[0m\n\u001b[1;32m----> 3\u001b[1;33m     \u001b[0mmag_gfu\u001b[0m \u001b[1;33m=\u001b[0m \u001b[0mmagfunc\u001b[0m\u001b[1;33m.\u001b[0m\u001b[0mupdate_magnetisation\u001b[0m\u001b[1;33m(\u001b[0m\u001b[0mfes_mag\u001b[0m\u001b[1;33m,\u001b[0m \u001b[0mmag_gfu\u001b[0m\u001b[1;33m,\u001b[0m \u001b[0mfes_eps_m\u001b[0m\u001b[1;33m,\u001b[0m \u001b[0mALPHA\u001b[0m\u001b[1;33m,\u001b[0m \u001b[0mTHETA\u001b[0m\u001b[1;33m,\u001b[0m \u001b[0mK\u001b[0m\u001b[1;33m,\u001b[0m \u001b[0mKAPPA\u001b[0m\u001b[1;33m)\u001b[0m\u001b[1;33m\u001b[0m\u001b[1;33m\u001b[0m\u001b[0m\n\u001b[0m\u001b[0;32m      4\u001b[0m     \u001b[0mRedraw\u001b[0m\u001b[1;33m(\u001b[0m\u001b[1;33m)\u001b[0m\u001b[1;33m\u001b[0m\u001b[1;33m\u001b[0m\u001b[0m\n\u001b[0;32m      5\u001b[0m     print(f\"Step {i}:\\n\\\n",
      "\u001b[1;32mc:\\Users\\gpb22197\\NGSolveStuff\\HywelAlgorithmStuff\\Magnetisation_Functions.py\u001b[0m in \u001b[0;36mupdate_magnetisation\u001b[1;34m(fes_mag, mag_gfu, fes_eps_m, ALPHA, THETA, K, KAPPA)\u001b[0m\n\u001b[0;32m    180\u001b[0m     \u001b[0ma_mag\u001b[0m\u001b[1;33m,\u001b[0m \u001b[0mf_mag\u001b[0m \u001b[1;33m=\u001b[0m \u001b[0mbuild_magnetic_lin_system\u001b[0m\u001b[1;33m(\u001b[0m\u001b[0mfes_mag\u001b[0m\u001b[1;33m,\u001b[0m \u001b[0mmag_gfu\u001b[0m\u001b[1;33m,\u001b[0m \u001b[0mfes_eps_m\u001b[0m\u001b[1;33m,\u001b[0m \u001b[0mALPHA\u001b[0m\u001b[1;33m,\u001b[0m \u001b[0mTHETA\u001b[0m\u001b[1;33m,\u001b[0m \u001b[0mK\u001b[0m\u001b[1;33m,\u001b[0m \u001b[0mKAPPA\u001b[0m\u001b[1;33m)\u001b[0m\u001b[1;33m\u001b[0m\u001b[1;33m\u001b[0m\u001b[0m\n\u001b[0;32m    181\u001b[0m     \u001b[0mB\u001b[0m \u001b[1;33m=\u001b[0m \u001b[0mbuild_tangent_plane_matrix\u001b[0m\u001b[1;33m(\u001b[0m\u001b[0mmag_gfu\u001b[0m\u001b[1;33m)\u001b[0m\u001b[1;33m\u001b[0m\u001b[1;33m\u001b[0m\u001b[0m\n\u001b[1;32m--> 182\u001b[1;33m     \u001b[0mv\u001b[0m \u001b[1;33m=\u001b[0m \u001b[0mgive_magnetisation_update\u001b[0m\u001b[1;33m(\u001b[0m\u001b[0ma_mag\u001b[0m\u001b[1;33m,\u001b[0m \u001b[0mB\u001b[0m\u001b[1;33m,\u001b[0m \u001b[0mf_mag\u001b[0m\u001b[1;33m)\u001b[0m\u001b[1;33m\u001b[0m\u001b[1;33m\u001b[0m\u001b[0m\n\u001b[0m\u001b[0;32m    183\u001b[0m \u001b[1;33m\u001b[0m\u001b[0m\n\u001b[0;32m    184\u001b[0m     \u001b[0mN\u001b[0m \u001b[1;33m=\u001b[0m \u001b[0mgenfunc\u001b[0m\u001b[1;33m.\u001b[0m\u001b[0mget_num_nodes\u001b[0m\u001b[1;33m(\u001b[0m\u001b[0mmag_gfu\u001b[0m\u001b[1;33m)\u001b[0m\u001b[1;33m\u001b[0m\u001b[1;33m\u001b[0m\u001b[0m\n",
      "\u001b[1;32mc:\\Users\\gpb22197\\NGSolveStuff\\HywelAlgorithmStuff\\Magnetisation_Functions.py\u001b[0m in \u001b[0;36mgive_magnetisation_update\u001b[1;34m(A, B, F)\u001b[0m\n\u001b[0;32m     98\u001b[0m     \u001b[0mstiffness_block\u001b[0m \u001b[1;33m=\u001b[0m \u001b[0mnp\u001b[0m\u001b[1;33m.\u001b[0m\u001b[0mblock\u001b[0m\u001b[1;33m(\u001b[0m\u001b[1;33m[\u001b[0m\u001b[1;33m[\u001b[0m\u001b[0mA\u001b[0m\u001b[1;33m,\u001b[0m \u001b[0mnp\u001b[0m\u001b[1;33m.\u001b[0m\u001b[0mtranspose\u001b[0m\u001b[1;33m(\u001b[0m\u001b[0mB\u001b[0m\u001b[1;33m)\u001b[0m\u001b[1;33m]\u001b[0m\u001b[1;33m,\u001b[0m \u001b[1;33m[\u001b[0m\u001b[0mB\u001b[0m\u001b[1;33m,\u001b[0m \u001b[0mnp\u001b[0m\u001b[1;33m.\u001b[0m\u001b[0mzeros\u001b[0m\u001b[1;33m(\u001b[0m\u001b[1;33m(\u001b[0m\u001b[0mN\u001b[0m\u001b[1;33m,\u001b[0m \u001b[0mN\u001b[0m\u001b[1;33m)\u001b[0m\u001b[1;33m)\u001b[0m\u001b[1;33m]\u001b[0m\u001b[1;33m]\u001b[0m\u001b[1;33m)\u001b[0m\u001b[1;33m\u001b[0m\u001b[1;33m\u001b[0m\u001b[0m\n\u001b[0;32m     99\u001b[0m     \u001b[0mforce_block\u001b[0m \u001b[1;33m=\u001b[0m \u001b[0mnp\u001b[0m\u001b[1;33m.\u001b[0m\u001b[0mconcatenate\u001b[0m\u001b[1;33m(\u001b[0m\u001b[1;33m(\u001b[0m\u001b[0mF\u001b[0m\u001b[1;33m,\u001b[0m \u001b[0mnp\u001b[0m\u001b[1;33m.\u001b[0m\u001b[0mzeros\u001b[0m\u001b[1;33m(\u001b[0m\u001b[0mN\u001b[0m\u001b[1;33m)\u001b[0m\u001b[1;33m)\u001b[0m\u001b[1;33m,\u001b[0m \u001b[0maxis\u001b[0m\u001b[1;33m=\u001b[0m\u001b[1;36m0\u001b[0m\u001b[1;33m)\u001b[0m\u001b[1;33m\u001b[0m\u001b[1;33m\u001b[0m\u001b[0m\n\u001b[1;32m--> 100\u001b[1;33m     \u001b[0mvlam\u001b[0m \u001b[1;33m=\u001b[0m \u001b[0mnp\u001b[0m\u001b[1;33m.\u001b[0m\u001b[0mlinalg\u001b[0m\u001b[1;33m.\u001b[0m\u001b[0msolve\u001b[0m\u001b[1;33m(\u001b[0m\u001b[0mstiffness_block\u001b[0m\u001b[1;33m,\u001b[0m \u001b[0mforce_block\u001b[0m\u001b[1;33m)\u001b[0m\u001b[1;33m\u001b[0m\u001b[1;33m\u001b[0m\u001b[0m\n\u001b[0m\u001b[0;32m    101\u001b[0m     \u001b[0mv\u001b[0m \u001b[1;33m=\u001b[0m \u001b[0mvlam\u001b[0m\u001b[1;33m[\u001b[0m\u001b[1;36m0\u001b[0m \u001b[1;33m:\u001b[0m \u001b[1;36m3\u001b[0m \u001b[1;33m*\u001b[0m \u001b[0mN\u001b[0m\u001b[1;33m]\u001b[0m\u001b[1;33m\u001b[0m\u001b[1;33m\u001b[0m\u001b[0m\n\u001b[0;32m    102\u001b[0m     residual = np.linalg.norm(\n",
      "\u001b[1;32m<__array_function__ internals>\u001b[0m in \u001b[0;36msolve\u001b[1;34m(*args, **kwargs)\u001b[0m\n",
      "\u001b[1;32m~\\AppData\\Roaming\\Python\\Python37\\site-packages\\numpy\\linalg\\linalg.py\u001b[0m in \u001b[0;36msolve\u001b[1;34m(a, b)\u001b[0m\n\u001b[0;32m    391\u001b[0m     \u001b[0msignature\u001b[0m \u001b[1;33m=\u001b[0m \u001b[1;34m'DD->D'\u001b[0m \u001b[1;32mif\u001b[0m \u001b[0misComplexType\u001b[0m\u001b[1;33m(\u001b[0m\u001b[0mt\u001b[0m\u001b[1;33m)\u001b[0m \u001b[1;32melse\u001b[0m \u001b[1;34m'dd->d'\u001b[0m\u001b[1;33m\u001b[0m\u001b[1;33m\u001b[0m\u001b[0m\n\u001b[0;32m    392\u001b[0m     \u001b[0mextobj\u001b[0m \u001b[1;33m=\u001b[0m \u001b[0mget_linalg_error_extobj\u001b[0m\u001b[1;33m(\u001b[0m\u001b[0m_raise_linalgerror_singular\u001b[0m\u001b[1;33m)\u001b[0m\u001b[1;33m\u001b[0m\u001b[1;33m\u001b[0m\u001b[0m\n\u001b[1;32m--> 393\u001b[1;33m     \u001b[0mr\u001b[0m \u001b[1;33m=\u001b[0m \u001b[0mgufunc\u001b[0m\u001b[1;33m(\u001b[0m\u001b[0ma\u001b[0m\u001b[1;33m,\u001b[0m \u001b[0mb\u001b[0m\u001b[1;33m,\u001b[0m \u001b[0msignature\u001b[0m\u001b[1;33m=\u001b[0m\u001b[0msignature\u001b[0m\u001b[1;33m,\u001b[0m \u001b[0mextobj\u001b[0m\u001b[1;33m=\u001b[0m\u001b[0mextobj\u001b[0m\u001b[1;33m)\u001b[0m\u001b[1;33m\u001b[0m\u001b[1;33m\u001b[0m\u001b[0m\n\u001b[0m\u001b[0;32m    394\u001b[0m \u001b[1;33m\u001b[0m\u001b[0m\n\u001b[0;32m    395\u001b[0m     \u001b[1;32mreturn\u001b[0m \u001b[0mwrap\u001b[0m\u001b[1;33m(\u001b[0m\u001b[0mr\u001b[0m\u001b[1;33m.\u001b[0m\u001b[0mastype\u001b[0m\u001b[1;33m(\u001b[0m\u001b[0mresult_t\u001b[0m\u001b[1;33m,\u001b[0m \u001b[0mcopy\u001b[0m\u001b[1;33m=\u001b[0m\u001b[1;32mFalse\u001b[0m\u001b[1;33m)\u001b[0m\u001b[1;33m)\u001b[0m\u001b[1;33m\u001b[0m\u001b[1;33m\u001b[0m\u001b[0m\n",
      "\u001b[1;31mKeyboardInterrupt\u001b[0m: "
     ]
    }
   ],
   "source": [
    "num_steps = genfunc.ceiling_division(T_MAX, K)  # This is ceiling division, using upside-down floor division.\n",
    "for i in range(num_steps):\n",
    "    mag_gfu = magfunc.update_magnetisation(fes_mag, mag_gfu, fes_eps_m, ALPHA, THETA, K, KAPPA)\n",
    "    Redraw()\n",
    "    print(f\"Step {i}:\\n\\\n",
    "          integral |m*m|dx = {Integrate(mag_gfu*mag_gfu, mesh, VOL)}\")"
   ]
  },
  {
   "cell_type": "code",
   "execution_count": null,
   "id": "176c844c",
   "metadata": {},
   "outputs": [],
   "source": [
    "# Test functions\n",
    "#u = fes_disp.TrialFunction()\n",
    "#psi = fes_disp.TestFunction()\n",
    "# Building the linear system for the displacement\n",
    "#a_disp = BilinearForm(fes_disp)\n",
    "#a_disp += InnerProduct(u, psi) * dx  # <u^(i+1), ψ>\n",
    "#a_disp += K*K*InnerProduct(elfunc.stress(elfunc.strain(u)), elfunc.strain(psi)) * dx  # k^2<Cε(u), ε(ψ)>\n",
    "\n",
    "#f_disp = LinearForm(fes_disp)\n",
    "#f_mag += InnerProduct(elfunc.stress(magfunc.build_strain_m(fes_eps_m, magfunc.nodal_projection(mag_gfu))), elfunc.strain(psi))* dx  # <Cε_m(Π m),ε(ψ)>\n",
    "# f_mag += K*InnerProduct(diff_t u, psi)*dx  # k<d_t u^i, ψ>\n",
    "#f_disp +=  InnerProduct(disp_gfu, psi) * dx  # <u^i, ψ>\n",
    "# f_mag += InnerProduct(f_body, psi)*dx  # k^2 <f, ψ>\n",
    "# f_mag += InnerProduct(g_surface, psi)*ds  # k^2 _/‾ g·ψ ds"
   ]
  }
 ],
 "metadata": {
  "kernelspec": {
   "display_name": "Python 3",
   "language": "python",
   "name": "python3"
  },
  "language_info": {
   "codemirror_mode": {
    "name": "ipython",
    "version": 3
   },
   "file_extension": ".py",
   "mimetype": "text/x-python",
   "name": "python",
   "nbconvert_exporter": "python",
   "pygments_lexer": "ipython3",
   "version": "3.7.9"
  },
  "vscode": {
   "interpreter": {
    "hash": "5109d816b82be14675a6b11f8e0f0d2e80f029176ed3710d54e125caa8520dfd"
   }
  }
 },
 "nbformat": 4,
 "nbformat_minor": 5
}
