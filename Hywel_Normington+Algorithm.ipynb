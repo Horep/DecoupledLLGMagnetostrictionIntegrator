{
 "cells": [
  {
   "attachments": {},
   "cell_type": "markdown",
   "id": "da07342f",
   "metadata": {},
   "source": [
    "We import `netgen.gui` to open the netgen GUI for displaying the ferromagnet. \n",
    "We then define the geometry, and draw the box. \n",
    "The refinement of the mesh is controlled by `H_MAX` in `ngmesh`."
   ]
  },
  {
   "cell_type": "markdown",
   "id": "5ed135ae",
   "metadata": {},
   "source": []
  },
  {
   "cell_type": "code",
   "execution_count": 1,
   "id": "d81bbe92",
   "metadata": {},
   "outputs": [],
   "source": [
    "from netgen.csg import *\n",
    "from ngsolve import *\n",
    "from ngsolve.utils import grad, Grad  # If I don't import these explicitly, VSCode reads them as missing.\n",
    "import netgen.gui  # this opens up the netgen ui\n",
    "import Magnetisation_Functions as magfunc\n",
    "import Elastic_Functions as elfunc\n",
    "import numpy as np\n",
    "import scipy.sparse as sp\n",
    "T_MAX = 10.0  # The maximum time for the simulation\n",
    "ALPHA = 1  # Dissipative constant in the LLG equation.\n",
    "THETA = 0.75 # Should be strictly above 1/2 for unconditional stability\n",
    "K = 0.1  # TIME STEP\n",
    "KAPPA = 1  # Determines the relative strength of the elastic vs. magnetic parts.\n",
    "H_MAX = 1  # Determines how fine the mesh should be."
   ]
  },
  {
   "cell_type": "code",
   "execution_count": 2,
   "id": "4fffb481",
   "metadata": {},
   "outputs": [],
   "source": [
    "def MakeGeometry():  # this makes a box, with labelled faces\n",
    "    geometry = CSGeometry()\n",
    "    left  = Plane(Pnt(0,0,0), Vec(-1,0,0)).bc(\"left\")\n",
    "    right = Plane(Pnt(1,1,1), Vec( 1,0,0)).bc(\"right\")\n",
    "    front = Plane(Pnt(0,0,0), Vec(0,-1,0)).bc(\"front\")\n",
    "    back  = Plane(Pnt(1,1,1), Vec(0, 1,0)).bc(\"back\")\n",
    "    bot   = Plane(Pnt(0,0,0), Vec(0,0,-1)).bc(\"bot\")\n",
    "    top   = Plane(Pnt(1,1,1), Vec(0,0, 1)).bc(\"top\")\n",
    "\n",
    "    cube = left * right * front * back * bot * top\n",
    "    geometry.Add (cube)\n",
    "    #cube = OrthoBrick(Pnt(0,0,0), Pnt(1,1,1))\n",
    "    geometry.Add(cube)\n",
    "    return geometry\n",
    "\n",
    "\n",
    "\n",
    "ngmesh = MakeGeometry().GenerateMesh(maxh=H_MAX)\n",
    "# ngmesh.Save(\"cube.vol\")\n",
    "mesh = Mesh(ngmesh)\n",
    "Draw(mesh)"
   ]
  },
  {
   "cell_type": "code",
   "execution_count": 3,
   "id": "1469ace3",
   "metadata": {},
   "outputs": [],
   "source": [
    "  # this helps me figure out which sides are which.\n",
    "#fes_SCALAR = H1(mesh, order=1)\n",
    "#myScalars = {\"left\":10, \"right\":10, \"front\":0, \"back\":0, \"bot\":5, \"top\":5}\n",
    "#SCALAR_gfu = CoefficientFunction([myScalars[val] for val in mesh.GetBoundaries()])\n",
    "#Draw(SCALAR_gfu, mesh, \"SCALAR_gfu\")\n"
   ]
  },
  {
   "cell_type": "code",
   "execution_count": 4,
   "id": "0645f180",
   "metadata": {},
   "outputs": [
    {
     "name": "stdout",
     "output_type": "stream",
     "text": [
      "mag_ndof=27, disp_ndof=27,\n",
      ", dispfree_ndof=0: 010011011010011011010011011\n"
     ]
    }
   ],
   "source": [
    "fes_mag = VectorH1(mesh, order=1)  # the finite element space for the magnetisation m_h^i\n",
    "fes_disp = VectorH1(mesh, order=1, dirichlet=\"bot\")  # the finite element space for the displacement u_h^i\n",
    "\n",
    "print(f\"mag_ndof={fes_mag.ndof}, disp_ndof={fes_disp.ndof},\\n, dispfree_ndof={fes_disp.FreeDofs()}\")\n",
    "mag_gfu = GridFunction(fes_mag)\n",
    "disp_gfu = GridFunction(fes_disp)\n",
    "# body force and traction force\n",
    "\n",
    "#f_body = CoefficientFunction((0,0,-1))\n",
    "#g_surface = CoefficientFunction([-1 if bc==\"left\" else 0 for bc in mesh.GetBoundaries()])"
   ]
  },
  {
   "cell_type": "code",
   "execution_count": 5,
   "id": "44b4bd65",
   "metadata": {},
   "outputs": [],
   "source": [
    "# Randomly give initial magnetisation\n",
    "mag_gfu = magfunc.give_random_magnetisation(mag_gfu)\n",
    "\n",
    "\n",
    "# Test functions\n",
    "v = fes_mag.TrialFunction()\n",
    "phi = fes_mag.TestFunction()\n",
    "# Building the linear system for the magnetisation\n",
    "\n",
    "a_mag = BilinearForm(fes_mag)\n",
    "a_mag += ALPHA*InnerProduct(v, phi)*dx  # α<v,Φ>\n",
    "a_mag += THETA*K*InnerProduct(Grad(v), Grad(phi))*dx  # θk<∇v,∇Φ>\n",
    "a_mag += InnerProduct(Cross(mag_gfu,v), phi)*dx  # <m×v,Φ>\n",
    "a_mag.Assemble()\n",
    "\n",
    "f_mag = LinearForm(fes_mag)\n",
    "f_mag += -InnerProduct(grad(mag_gfu), grad(phi))*dx # -<∇m,∇Φ>\n",
    "#f_mag +=  # magnetostrictive contribution.\n",
    "f_mag.Assemble()"
   ]
  },
  {
   "cell_type": "code",
   "execution_count": null,
   "id": "176c844c",
   "metadata": {},
   "outputs": [],
   "source": [
    "# Test functions\n",
    "u = fes_disp.TrialFunction()\n",
    "psi = fes_disp.TestFunction()\n",
    "# Building the linear system for the displacement\n",
    "a_disp = BilinearForm(fes_disp)\n",
    "a_disp += 1/(K*K)*InnerProduct(u, psi)*dx\n",
    "a_disp += InnerProduct(elfunc.stress(elfunc.strain(u)), elfunc.strain(psi))*dx\n",
    "\n",
    "f_disp = LinearForm(fes_disp)\n",
    "#f_mag += InnerProduct(elfunc.stress(elfunc.strain_m()), ψ)*dx  # <Cε_m(Π m),ψ>\n",
    "#f_mag += 1/K*InnerProduct(diff_t u, psi)*dx  # <d_t u^i, ψ>\n",
    "f_disp += 1/(K*K)*InnerProduct(disp_gfu, psi)*dx  # <u^i, ψ>\n",
    "#f_mag += InnerProduct(f_body, psi)*dx  # <f, ψ>\n",
    "#f_mag += InnerProduct(g_surface, psi)*ds  # _/‾ g·ψ ds"
   ]
  },
  {
   "cell_type": "code",
   "execution_count": 10,
   "id": "09781f90",
   "metadata": {},
   "outputs": [
    {
     "name": "stdout",
     "output_type": "stream",
     "text": [
      "[-2.49587527e+00 -3.05448324e-01  1.29669631e+00 -4.38687568e+00\n",
      " -2.91616704e+00  7.63712428e-01 -6.64294968e-01 -2.11827253e+00\n",
      " -1.37912060e+00 -2.20972355e-03 -9.69699152e-01 -5.00706442e-01\n",
      "  7.16243669e+00  1.12106729e+01 -8.51841861e-01 -2.38126475e+00\n",
      "  9.82977321e-01 -3.82278777e+00 -1.30233609e+00 -4.49137600e+00\n",
      "  1.71444798e+00 -3.33475940e+00  3.61487405e+00  4.01124053e+00\n",
      " -4.28308942e+00  1.26630049e+00  5.03985007e-02]\n"
     ]
    }
   ],
   "source": [
    "B_T = magfunc.build_tangent_plane_matrix_transpose(mag_gfu)\n",
    "with np.printoptions(threshold=np.inf):\n",
    "    print(magfunc.give_magnetisation_update(a_mag, B_T, f_mag))"
   ]
  },
  {
   "cell_type": "code",
   "execution_count": 8,
   "id": "3fa5e9e3",
   "metadata": {},
   "outputs": [],
   "source": [
    "#print(mag_gfu.vec)\n",
    "Draw(mag_gfu)\n",
    "#print(magfunc.build_tangent_plane_matrix_transpose(mag_gfu))\n"
   ]
  }
 ],
 "metadata": {
  "kernelspec": {
   "display_name": "Python 3",
   "language": "python",
   "name": "python3"
  },
  "language_info": {
   "codemirror_mode": {
    "name": "ipython",
    "version": 3
   },
   "file_extension": ".py",
   "mimetype": "text/x-python",
   "name": "python",
   "nbconvert_exporter": "python",
   "pygments_lexer": "ipython3",
   "version": "3.7.9"
  },
  "vscode": {
   "interpreter": {
    "hash": "5109d816b82be14675a6b11f8e0f0d2e80f029176ed3710d54e125caa8520dfd"
   }
  }
 },
 "nbformat": 4,
 "nbformat_minor": 5
}
