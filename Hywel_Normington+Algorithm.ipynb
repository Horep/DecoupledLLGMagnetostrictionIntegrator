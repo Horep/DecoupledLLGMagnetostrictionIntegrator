{
 "cells": [
  {
   "attachments": {},
   "cell_type": "markdown",
   "id": "da07342f",
   "metadata": {},
   "source": [
    "We import `netgen.gui` to open the netgen GUI for displaying the ferromagnet. \n",
    "We then define the geometry, and draw the box. \n",
    "The refinement of the mesh is controlled by `maxh` in `ngmesh`."
   ]
  },
  {
   "cell_type": "code",
   "execution_count": null,
   "id": "d81bbe92",
   "metadata": {},
   "outputs": [],
   "source": [
    "from netgen.csg import *\n",
    "from ngsolve import *\n",
    "import netgen.gui  # this opens up the netgen ui\n",
    "import Magnetisation_Functions\n",
    "T_max = 10\n",
    "current_time = 0\n",
    "dt = 0.1\n",
    "h_max = 1"
   ]
  },
  {
   "cell_type": "code",
   "execution_count": null,
   "id": "4fffb481",
   "metadata": {},
   "outputs": [],
   "source": [
    "def MakeGeometry():  # this makes a box, with labelled faces\n",
    "    geometry = CSGeometry()\n",
    "    left  = Plane(Pnt(0,0,0), Vec(-1,0,0)).bc(\"left\")\n",
    "    right = Plane(Pnt(1,1,1), Vec( 1,0,0)).bc(\"right\")\n",
    "    front = Plane(Pnt(0,0,0), Vec(0,-1,0)).bc(\"front\")\n",
    "    back  = Plane(Pnt(1,1,1), Vec(0, 1,0)).bc(\"back\")\n",
    "    bot   = Plane(Pnt(0,0,0), Vec(0,0,-1)).bc(\"bot\")\n",
    "    top   = Plane(Pnt(1,1,1), Vec(0,0, 1)).bc(\"top\")\n",
    "\n",
    "    cube = left * right * front * back * bot * top\n",
    "    geometry.Add (cube)\n",
    "    #cube = OrthoBrick(Pnt(0,0,0), Pnt(1,1,1))\n",
    "    geometry.Add(cube)\n",
    "    return geometry\n",
    "\n",
    "\n",
    "\n",
    "ngmesh = MakeGeometry().GenerateMesh(maxh=h_max)\n",
    "# ngmesh.Save(\"cube.vol\")\n",
    "mesh = Mesh(ngmesh)\n",
    "Draw(mesh)"
   ]
  },
  {
   "cell_type": "code",
   "execution_count": null,
   "id": "1469ace3",
   "metadata": {},
   "outputs": [],
   "source": [
    "  # this helps me figure out which sides are which.\n",
    "#fes_SCALAR = H1(mesh, order=1)\n",
    "#myScalars = {\"left\":10, \"right\":10, \"front\":0, \"back\":0, \"bot\":5, \"top\":5}\n",
    "#SCALAR_gfu = CoefficientFunction([myScalars[val] for val in mesh.GetBoundaries()])\n",
    "\n",
    "#Draw(SCALAR_gfu, mesh, \"SCALAR_gfu\")"
   ]
  },
  {
   "cell_type": "code",
   "execution_count": null,
   "id": "0645f180",
   "metadata": {},
   "outputs": [],
   "source": [
    "fes_mag = VectorH1(mesh, order=1)  # the finite element space for the magnetisation m_h^i\n",
    "fes_disp = VectorH1(mesh, order=1, dirichlet=\"bot\")  # the finite element space for the displacement u_h^i\n",
    "print(f\"mag_ndof={fes_mag.ndof}, disp_ndof={fes_disp.ndof},\\n, dispfree_ndof={fes_disp.FreeDofs()}\")\n",
    "mag_gfu = GridFunction(fes_mag)\n",
    "disp_gfu = GridFunction(fes_disp)"
   ]
  },
  {
   "cell_type": "code",
   "execution_count": null,
   "id": "db236e23",
   "metadata": {},
   "outputs": [],
   "source": [
    "mag_gfu = Magnetisation_Functions.give_random_magnetisation(mag_gfu)"
   ]
  },
  {
   "cell_type": "code",
   "execution_count": null,
   "id": "3fa5e9e3",
   "metadata": {},
   "outputs": [],
   "source": [
    "print(mag_gfu.vec)\n",
    "Draw(mag_gfu)"
   ]
  }
 ],
 "metadata": {
  "kernelspec": {
   "display_name": "Python 3",
   "language": "python",
   "name": "python3"
  },
  "language_info": {
   "codemirror_mode": {
    "name": "ipython",
    "version": 3
   },
   "file_extension": ".py",
   "mimetype": "text/x-python",
   "name": "python",
   "nbconvert_exporter": "python",
   "pygments_lexer": "ipython3",
   "version": "3.7.9"
  },
  "vscode": {
   "interpreter": {
    "hash": "5109d816b82be14675a6b11f8e0f0d2e80f029176ed3710d54e125caa8520dfd"
   }
  }
 },
 "nbformat": 4,
 "nbformat_minor": 5
}
